{
  "nbformat": 4,
  "nbformat_minor": 0,
  "metadata": {
    "kernelspec": {
      "display_name": "feedforward",
      "language": "python",
      "name": "feedforward"
    },
    "language_info": {
      "codemirror_mode": {
        "name": "ipython",
        "version": 3
      },
      "file_extension": ".py",
      "mimetype": "text/x-python",
      "name": "python",
      "nbconvert_exporter": "python",
      "pygments_lexer": "ipython3",
      "version": "3.6.9"
    },
    "colab": {
      "name": "Capstone Project.ipynb",
      "provenance": [],
      "collapsed_sections": []
    }
  },
  "cells": [
    {
      "cell_type": "markdown",
      "metadata": {
        "id": "rffwkDWTz_Fo"
      },
      "source": [
        "# Capstone Project\n",
        "## Image classifier for the SVHN dataset\n",
        "### Instructions\n",
        "\n",
        "In this notebook, you will create a neural network that classifies real-world images digits. You will use concepts from throughout this course in building, training, testing, validating and saving your Tensorflow classifier model.\n",
        "\n",
        "This project is peer-assessed. Within this notebook you will find instructions in each section for how to complete the project. Pay close attention to the instructions as the peer review will be carried out according to a grading rubric that checks key parts of the project instructions. Feel free to add extra cells into the notebook as required.\n",
        "\n",
        "### How to submit\n",
        "\n",
        "When you have completed the Capstone project notebook, you will submit a pdf of the notebook for peer review. First ensure that the notebook has been fully executed from beginning to end, and all of the cell outputs are visible. This is important, as the grading rubric depends on the reviewer being able to view the outputs of your notebook. Save the notebook as a pdf (you could download the notebook with File -> Download .ipynb, open the notebook locally, and then File -> Download as -> PDF via LaTeX), and then submit this pdf for review.\n",
        "\n",
        "### Let's get started!\n",
        "\n",
        "We'll start by running some imports, and loading the dataset. For this project you are free to make further imports throughout the notebook as you wish. "
      ]
    },
    {
      "cell_type": "code",
      "metadata": {
        "id": "O3vI8jSIz_Fs"
      },
      "source": [
        "import tensorflow as tf\n",
        "from scipy.io import loadmat"
      ],
      "execution_count": 1,
      "outputs": []
    },
    {
      "cell_type": "markdown",
      "metadata": {
        "id": "8OrHY7TRz_Fx"
      },
      "source": [
        "For the capstone project, you will use the [SVHN dataset](http://ufldl.stanford.edu/housenumbers/). This is an image dataset of over 600,000 digit images in all, and is a harder dataset than MNIST as the numbers appear in the context of natural scene images. SVHN is obtained from house numbers in Google Street View images.\n",
        "\n",
        "* Y. Netzer, T. Wang, A. Coates, A. Bissacco, B. Wu and A. Y. Ng. \"Reading Digits in Natural Images with Unsupervised Feature Learning\". NIPS Workshop on Deep Learning and Unsupervised Feature Learning, 2011.\n",
        "\n",
        "The train and test datasets required for this project can be downloaded from [here](http://ufldl.stanford.edu/housenumbers/train.tar.gz) and [here](http://ufldl.stanford.edu/housenumbers/test.tar.gz). Once unzipped, you will have two files: `train_32x32.mat` and `test_32x32.mat`. You should store these files in Drive for use in this Colab notebook.\n",
        "\n",
        "Your goal is to develop an end-to-end workflow for building, training, validating, evaluating and saving a neural network that classifies a real-world image into one of ten classes."
      ]
    },
    {
      "cell_type": "code",
      "metadata": {
        "id": "r8BHW8P_2wxw",
        "colab": {
          "base_uri": "https://localhost:8080/"
        },
        "outputId": "c9d12ad3-3e79-4c18-d304-2726ccc4ee32"
      },
      "source": [
        "# Run this cell to connect to your Drive folder\n",
        "\n",
        "from google.colab import drive\n",
        "drive.mount('/content/gdrive')"
      ],
      "execution_count": 2,
      "outputs": [
        {
          "output_type": "stream",
          "name": "stdout",
          "text": [
            "Mounted at /content/gdrive\n"
          ]
        }
      ]
    },
    {
      "cell_type": "code",
      "metadata": {
        "id": "YWdiz3n_z_Fy"
      },
      "source": [
        "# Load the dataset from your Drive folder\n",
        "\n",
        "train = loadmat('/content/gdrive/MyDrive/Colab Notebooks/coursera/TF2/train_32x32.mat')\n",
        "test = loadmat('/content/gdrive/MyDrive/Colab Notebooks/coursera/TF2/test_32x32.mat')"
      ],
      "execution_count": 4,
      "outputs": []
    },
    {
      "cell_type": "markdown",
      "metadata": {
        "id": "Sot1IcuZz_F2"
      },
      "source": [
        "Both `train` and `test` are dictionaries with keys `X` and `y` for the input images and labels respectively."
      ]
    },
    {
      "cell_type": "markdown",
      "source": [
        "Load SVHN dataset from Tensorflow_dataset"
      ],
      "metadata": {
        "id": "6Sj2EgG9_K6h"
      }
    },
    {
      "cell_type": "code",
      "source": [
        "from tensorflow.keras.preprocessing.image import load_img, img_to_array\n",
        "from tensorflow.keras.models import Sequential, load_model\n",
        "from tensorflow.keras.layers import Dense, Flatten, Conv2D, MaxPooling2D, BatchNormalization, Dropout\n",
        "from tensorflow.keras.callbacks import ModelCheckpoint, EarlyStopping\n",
        "from tensorflow.keras import regularizers\n",
        "import tensorflow_datasets as tfds\n",
        "\n",
        "import os\n",
        "import numpy as np\n",
        "import pandas as pd"
      ],
      "metadata": {
        "id": "YdfdekX9_y5h"
      },
      "execution_count": 5,
      "outputs": []
    },
    {
      "cell_type": "code",
      "source": [
        "# import tensorflow_datasets as tfds\n",
        "# tfds.list_builders()"
      ],
      "metadata": {
        "id": "WWjYEXwX-hKy"
      },
      "execution_count": null,
      "outputs": []
    },
    {
      "cell_type": "code",
      "source": [
        "# celeba의 정보중 이용할 데이터만 추출\n",
        "svhn = tfds.load('svhn_cropped')"
      ],
      "metadata": {
        "id": "s24M-bg4-nOZ"
      },
      "execution_count": null,
      "outputs": []
    },
    {
      "cell_type": "markdown",
      "metadata": {
        "id": "_Q1n_Ai2z_F3"
      },
      "source": [
        "## 1. Inspect and preprocess the dataset\n",
        "* Extract the training and testing images and labels separately from the train and test dictionaries loaded for you.\n",
        "* Select a random sample of images and corresponding labels from the dataset (at least 10), and display them in a figure.\n",
        "* Convert the training and test images to grayscale by taking the average across all colour channels for each pixel. _Hint: retain the channel dimension, which will now have size 1._\n",
        "* Select a random sample of the grayscale images and corresponding labels from the dataset (at least 10), and display them in a figure."
      ]
    },
    {
      "cell_type": "code",
      "metadata": {
        "id": "-WIH5hyXz_F4"
      },
      "source": [
        "x_train = train[\"X\"]\n",
        "y_train = train[\"y\"]\n",
        "x_test = test[\"X\"]\n",
        "y_test = test[\"y\"]"
      ],
      "execution_count": 6,
      "outputs": []
    },
    {
      "cell_type": "code",
      "metadata": {
        "id": "zmGJK3xgz_F8",
        "colab": {
          "base_uri": "https://localhost:8080/"
        },
        "outputId": "c03bd6b8-1ec9-412c-baf3-652cb1d31757"
      },
      "source": [
        "print(x_train.shape)\n",
        "print(y_train.shape)\n",
        "print(x_test.shape)\n",
        "print(y_test.shape)"
      ],
      "execution_count": 7,
      "outputs": [
        {
          "output_type": "stream",
          "name": "stdout",
          "text": [
            "(32, 32, 3, 73257)\n",
            "(73257, 1)\n",
            "(32, 32, 3, 26032)\n",
            "(26032, 1)\n"
          ]
        }
      ]
    },
    {
      "cell_type": "code",
      "metadata": {
        "id": "6SR4gYffz_F_"
      },
      "source": [
        "x_train = x_train.transpose(3,0,1,2)\n",
        "x_test = x_test.transpose(3,0,1,2)"
      ],
      "execution_count": 8,
      "outputs": []
    },
    {
      "cell_type": "code",
      "metadata": {
        "id": "UXYwWhHpz_GD",
        "colab": {
          "base_uri": "https://localhost:8080/"
        },
        "outputId": "46e28ad2-e5d4-4692-b581-9b0483b3f4ba"
      },
      "source": [
        "print(x_train.shape)\n",
        "print(y_train.shape)\n",
        "print(x_test.shape)\n",
        "print(y_test.shape)"
      ],
      "execution_count": 9,
      "outputs": [
        {
          "output_type": "stream",
          "name": "stdout",
          "text": [
            "(73257, 32, 32, 3)\n",
            "(73257, 1)\n",
            "(26032, 32, 32, 3)\n",
            "(26032, 1)\n"
          ]
        }
      ]
    },
    {
      "cell_type": "code",
      "source": [
        "print(y_train.min())\n",
        "print(y_train.max())\n",
        "print(y_test.min())\n",
        "print(y_test.max())"
      ],
      "metadata": {
        "id": "fDIe0vb3Miiu",
        "colab": {
          "base_uri": "https://localhost:8080/"
        },
        "outputId": "9ab69768-7073-4bae-ef66-a47566e26bb7"
      },
      "execution_count": 10,
      "outputs": [
        {
          "output_type": "stream",
          "name": "stdout",
          "text": [
            "1\n",
            "10\n",
            "1\n",
            "10\n"
          ]
        }
      ]
    },
    {
      "cell_type": "code",
      "source": [
        "y_train0to10 = (y_train-1)\n",
        "y_test0to10 = (y_test-1)"
      ],
      "metadata": {
        "id": "GeCu99G7Mjxk"
      },
      "execution_count": 11,
      "outputs": []
    },
    {
      "cell_type": "code",
      "source": [
        "print(y_train0to10.min())\n",
        "print(y_train0to10.max())\n",
        "print(y_test0to10.min())\n",
        "print(y_test0to10.max())"
      ],
      "metadata": {
        "id": "0gFkmo_CMksU",
        "colab": {
          "base_uri": "https://localhost:8080/"
        },
        "outputId": "6f9b6c58-c926-4720-c260-331c916202b4"
      },
      "execution_count": 12,
      "outputs": [
        {
          "output_type": "stream",
          "name": "stdout",
          "text": [
            "0\n",
            "9\n",
            "0\n",
            "9\n"
          ]
        }
      ]
    },
    {
      "cell_type": "code",
      "metadata": {
        "id": "auFZ63dtz_GH"
      },
      "source": [
        "import matplotlib.pyplot as plt\n",
        "\n",
        "def show(idx):\n",
        "    plt.imshow(x_train[idx])\n",
        "    plt.title(f'label: {y_train[idx]}')\n",
        "    plt.show()"
      ],
      "execution_count": 13,
      "outputs": []
    },
    {
      "cell_type": "code",
      "metadata": {
        "id": "CGHZvq4zz_GK",
        "colab": {
          "base_uri": "https://localhost:8080/",
          "height": 281
        },
        "outputId": "b831640d-1336-4ab8-a213-0e8e70e45b1e"
      },
      "source": [
        "show(0)"
      ],
      "execution_count": 14,
      "outputs": [
        {
          "output_type": "display_data",
          "data": {
            "image/png": "[encoded data removed]",
            "text/plain": [
              "<Figure size 432x288 with 1 Axes>"
            ]
          },
          "metadata": {
            "needs_background": "light"
          }
        }
      ]
    },
    {
      "cell_type": "code",
      "source": [
        "import numpy as np\n",
        "\n",
        "rand = np.random.random_integers(len(x_train), size=(10,))\n",
        "random_test_labels = y_train[rand] \n",
        "\n",
        "fig, ax = plt.subplots(1, 10, figsize=(10, 1))\n",
        "# fig.subplots_adjust(hspace=0.4, wspace=-0.2)\n",
        "\n",
        "for i, label in enumerate(random_test_labels):\n",
        "    idx = rand[i]\n",
        "    ax[i].set_axis_off()\n",
        "    ax[i].imshow(x_train[idx])\n",
        "    ax[i].set_title(f'Label:{label}')\n",
        "\n",
        "plt.show()"
      ],
      "metadata": {
        "id": "qQUI-pEKMT2t",
        "colab": {
          "base_uri": "https://localhost:8080/",
          "height": 131
        },
        "outputId": "668930db-448c-4ac3-f3f9-bcc606ca202f"
      },
      "execution_count": 15,
      "outputs": [
        {
          "output_type": "stream",
          "name": "stderr",
          "text": [
            "/usr/local/lib/python3.7/dist-packages/ipykernel_launcher.py:3: DeprecationWarning: This function is deprecated. Please call randint(1, 73257 + 1) instead\n",
            "  This is separate from the ipykernel package so we can avoid doing imports until\n"
          ]
        },
        {
          "output_type": "display_data",
          "data": {
            "image/png": "[encoded data removed]",
            "text/plain": [
              "<Figure size 720x72 with 10 Axes>"
            ]
          },
          "metadata": {
            "needs_background": "light"
          }
        }
      ]
    },
    {
      "cell_type": "code",
      "source": [
        "# retain the channel dimension, which will now have size 1.\n",
        "x_train_gray = np.mean(x_train, axis=3)\n",
        "x_test_gray = np.mean(x_test, axis=3)\n",
        "print(x_train_gray.shape)\n",
        "print(x_test_gray.shape)"
      ],
      "metadata": {
        "id": "_FXLWxLkPhMg",
        "colab": {
          "base_uri": "https://localhost:8080/"
        },
        "outputId": "e131c1d9-7226-455e-c02f-215850f9a4a0"
      },
      "execution_count": 16,
      "outputs": [
        {
          "output_type": "stream",
          "name": "stdout",
          "text": [
            "(73257, 32, 32)\n",
            "(26032, 32, 32)\n"
          ]
        }
      ]
    },
    {
      "cell_type": "code",
      "source": [
        "rand = np.random.random_integers(len(x_train_gray), size=(10,))\n",
        "random_test_labels = y_train[rand] \n",
        "\n",
        "fig, ax = plt.subplots(1, 10, figsize=(10, 1))\n",
        "# fig.subplots_adjust(hspace=0.4, wspace=-0.2)\n",
        "\n",
        "for i, label in enumerate(random_test_labels):\n",
        "    idx = rand[i]\n",
        "    ax[i].set_axis_off()\n",
        "    ax[i].imshow(x_train_gray[idx], cmap='gray')\n",
        "    ax[i].set_title(f'Label:{label}')\n",
        "\n",
        "plt.show()"
      ],
      "metadata": {
        "id": "SUI9fG6wPi7k",
        "colab": {
          "base_uri": "https://localhost:8080/",
          "height": 131
        },
        "outputId": "b65a5f71-dcd6-4a56-8dea-52fac77f24c0"
      },
      "execution_count": 17,
      "outputs": [
        {
          "output_type": "stream",
          "name": "stderr",
          "text": [
            "/usr/local/lib/python3.7/dist-packages/ipykernel_launcher.py:1: DeprecationWarning: This function is deprecated. Please call randint(1, 73257 + 1) instead\n",
            "  \"\"\"Entry point for launching an IPython kernel.\n"
          ]
        },
        {
          "output_type": "display_data",
          "data": {
            "image/png": "[encoded data removed]",
            "text/plain": [
              "<Figure size 720x72 with 10 Axes>"
            ]
          },
          "metadata": {
            "needs_background": "light"
          }
        }
      ]
    },
    {
      "cell_type": "markdown",
      "metadata": {
        "id": "7e7iSyWXz_GN"
      },
      "source": [
        "## 2. MLP neural network classifier\n",
        "* Build an MLP classifier model using the Sequential API. Your model should use only Flatten and Dense layers, with the final layer having a 10-way softmax output. \n",
        "* You should design and build the model yourself. Feel free to experiment with different MLP architectures. _Hint: to achieve a reasonable accuracy you won't need to use more than 4 or 5 layers._\n",
        "* Print out the model summary (using the summary() method)\n",
        "* Compile and train the model (we recommend a maximum of 30 epochs), making use of both training and validation sets during the training run. \n",
        "* Your model should track at least one appropriate metric, and use at least two callbacks during training, one of which should be a ModelCheckpoint callback.\n",
        "* As a guide, you should aim to achieve a final categorical cross entropy training loss of less than 1.0 (the validation loss might be higher).\n",
        "* Plot the learning curves for loss vs epoch and accuracy vs epoch for both training and validation sets.\n",
        "* Compute and display the loss and accuracy of the trained model on the test set."
      ]
    },
    {
      "cell_type": "code",
      "metadata": {
        "id": "l14VCBFVz_GO"
      },
      "source": [
        "from tensorflow.keras.preprocessing.image import load_img, img_to_array\n",
        "from tensorflow.keras.models import Sequential, load_model\n",
        "from tensorflow.keras.layers import Dense, Flatten, Conv2D, MaxPooling2D, BatchNormalization, Dropout\n",
        "from tensorflow.keras.callbacks import ModelCheckpoint, EarlyStopping\n",
        "from tensorflow.keras import regularizers\n",
        "\n",
        "import os\n",
        "import numpy as np\n",
        "import pandas as pd"
      ],
      "execution_count": 18,
      "outputs": []
    },
    {
      "cell_type": "code",
      "metadata": {
        "id": "beEZO1kvz_GR"
      },
      "source": [
        "def get_MLP_model(input_shape, wd, rate):\n",
        "\n",
        "    model = Sequential([\n",
        "                        Flatten(input_shape=input_shape),\n",
        "                        Dense(256, kernel_regularizer=regularizers.l2(wd), activation='relu'),\n",
        "                        BatchNormalization(),  # <- Batch normalisation layer\n",
        "                        Dropout(rate),\n",
        "                        Dense(128, kernel_regularizer=regularizers.l2(wd), activation='relu'),\n",
        "                        BatchNormalization(),  # <- Batch normalisation layer\n",
        "                        Dropout(rate),\n",
        "                        Dense(64, kernel_regularizer=regularizers.l2(wd), activation='relu'),\n",
        "                        BatchNormalization(),  # <- Batch normalisation layer\n",
        "                        Dense(32, kernel_regularizer=regularizers.l2(wd), activation='relu'),\n",
        "                        BatchNormalization(),  # <- Batch normalisation layer\n",
        "                        Dense(10, activation='softmax'),    \n",
        "    ])\n",
        "\n",
        "    return model"
      ],
      "execution_count": 19,
      "outputs": []
    },
    {
      "cell_type": "code",
      "metadata": {
        "id": "YxJXq3xYz_GU",
        "colab": {
          "base_uri": "https://localhost:8080/"
        },
        "outputId": "7af46024-cf66-42cb-bb8b-cb1883644321"
      },
      "source": [
        "model = get_MLP_model(x_train_gray[0].shape, 1e-5, 0.3)\n",
        "model.summary()"
      ],
      "execution_count": 20,
      "outputs": [
        {
          "output_type": "stream",
          "name": "stdout",
          "text": [
            "Model: \"sequential\"\n",
            "_________________________________________________________________\n",
            " Layer (type)                Output Shape              Param #   \n",
            "=================================================================\n",
            " flatten (Flatten)           (None, 1024)              0         \n",
            "                                                                 \n",
            " dense (Dense)               (None, 256)               262400    \n",
            "                                                                 \n",
            " batch_normalization (BatchN  (None, 256)              1024      \n",
            " ormalization)                                                   \n",
            "                                                                 \n",
            " dropout (Dropout)           (None, 256)               0         \n",
            "                                                                 \n",
            " dense_1 (Dense)             (None, 128)               32896     \n",
            "                                                                 \n",
            " batch_normalization_1 (Batc  (None, 128)              512       \n",
            " hNormalization)                                                 \n",
            "                                                                 \n",
            " dropout_1 (Dropout)         (None, 128)               0         \n",
            "                                                                 \n",
            " dense_2 (Dense)             (None, 64)                8256      \n",
            "                                                                 \n",
            " batch_normalization_2 (Batc  (None, 64)               256       \n",
            " hNormalization)                                                 \n",
            "                                                                 \n",
            " dense_3 (Dense)             (None, 32)                2080      \n",
            "                                                                 \n",
            " batch_normalization_3 (Batc  (None, 32)               128       \n",
            " hNormalization)                                                 \n",
            "                                                                 \n",
            " dense_4 (Dense)             (None, 10)                330       \n",
            "                                                                 \n",
            "=================================================================\n",
            "Total params: 307,882\n",
            "Trainable params: 306,922\n",
            "Non-trainable params: 960\n",
            "_________________________________________________________________\n"
          ]
        }
      ]
    },
    {
      "cell_type": "code",
      "metadata": {
        "id": "pPPbzGhVz_GW"
      },
      "source": [
        "model.compile(loss='sparse_categorical_crossentropy', optimizer='adam', metrics = [\"accuracy\"])"
      ],
      "execution_count": 21,
      "outputs": []
    },
    {
      "cell_type": "code",
      "metadata": {
        "id": "7b5_8VsCz_GZ"
      },
      "source": [
        "checkpoint_MLP_best_path = 'checkpoints_MLP_best_only/checkpoint'\n",
        "checkpoint_best = ModelCheckpoint(filepath=checkpoint_MLP_best_path,\n",
        "                                  save_weights_only=True,\n",
        "                                  save_freq='epoch',\n",
        "                                  monitor='val_accuracy',\n",
        "                                  save_best_only=True,\n",
        "                                  verbose=1)"
      ],
      "execution_count": 22,
      "outputs": []
    },
    {
      "cell_type": "code",
      "metadata": {
        "id": "b0kH6VYqz_Gc"
      },
      "source": [
        "early_stopping = tf.keras.callbacks.EarlyStopping(monitor='val_loss', mode='min', patience=10)"
      ],
      "execution_count": 23,
      "outputs": []
    },
    {
      "cell_type": "code",
      "source": [
        "learningrate_scheduler = tf.keras.callbacks.LearningRateScheduler(lambda x:1/(3+5*x), verbose=1)"
      ],
      "metadata": {
        "id": "laFiMSNSP4J2"
      },
      "execution_count": 24,
      "outputs": []
    },
    {
      "cell_type": "code",
      "source": [
        "MLP_history = model.fit(x_train_gray, y_train0to10, epochs=30,\n",
        "                        validation_split=0.15, batch_size=64, verbose=1,\n",
        "                        callbacks=[early_stopping, checkpoint_best])"
      ],
      "metadata": {
        "id": "sINUjIy0P5bd",
        "colab": {
          "base_uri": "https://localhost:8080/"
        },
        "outputId": "b9d0dbfc-1d61-48d4-ec0b-b6b9a920a92d"
      },
      "execution_count": 25,
      "outputs": [
        {
          "output_type": "stream",
          "name": "stdout",
          "text": [
            "Epoch 1/30\n",
            "973/973 [==============================] - ETA: 0s - loss: 1.9157 - accuracy: 0.3394\n",
            "Epoch 1: val_accuracy improved from -inf to 0.36264, saving model to checkpoints_MLP_best_only/checkpoint\n",
            "973/973 [==============================] - 11s 10ms/step - loss: 1.9157 - accuracy: 0.3394 - val_loss: 1.9363 - val_accuracy: 0.3626\n",
            "Epoch 2/30\n",
            "968/973 [============================>.] - ETA: 0s - loss: 1.5554 - accuracy: 0.4748\n",
            "Epoch 2: val_accuracy did not improve from 0.36264\n",
            "973/973 [==============================] - 10s 10ms/step - loss: 1.5549 - accuracy: 0.4750 - val_loss: 6.3391 - val_accuracy: 0.2068\n",
            "Epoch 3/30\n",
            "969/973 [============================>.] - ETA: 0s - loss: 1.4483 - accuracy: 0.5189\n",
            "Epoch 3: val_accuracy improved from 0.36264 to 0.50141, saving model to checkpoints_MLP_best_only/checkpoint\n",
            "973/973 [==============================] - 9s 9ms/step - loss: 1.4483 - accuracy: 0.5188 - val_loss: 1.4527 - val_accuracy: 0.5014\n",
            "Epoch 4/30\n",
            "971/973 [============================>.] - ETA: 0s - loss: 1.4356 - accuracy: 0.5247\n",
            "Epoch 4: val_accuracy improved from 0.50141 to 0.61507, saving model to checkpoints_MLP_best_only/checkpoint\n",
            "973/973 [==============================] - 9s 10ms/step - loss: 1.4357 - accuracy: 0.5247 - val_loss: 1.2019 - val_accuracy: 0.6151\n",
            "Epoch 5/30\n",
            "970/973 [============================>.] - ETA: 0s - loss: 1.4082 - accuracy: 0.5348\n",
            "Epoch 5: val_accuracy did not improve from 0.61507\n",
            "973/973 [==============================] - 9s 9ms/step - loss: 1.4084 - accuracy: 0.5348 - val_loss: 1.2826 - val_accuracy: 0.5893\n",
            "Epoch 6/30\n",
            "969/973 [============================>.] - ETA: 0s - loss: 1.3997 - accuracy: 0.5359\n",
            "Epoch 6: val_accuracy did not improve from 0.61507\n",
            "973/973 [==============================] - 9s 9ms/step - loss: 1.3997 - accuracy: 0.5360 - val_loss: 1.4171 - val_accuracy: 0.5321\n",
            "Epoch 7/30\n",
            "968/973 [============================>.] - ETA: 0s - loss: 1.3708 - accuracy: 0.5502\n",
            "Epoch 7: val_accuracy did not improve from 0.61507\n",
            "973/973 [==============================] - 9s 10ms/step - loss: 1.3704 - accuracy: 0.5503 - val_loss: 1.1982 - val_accuracy: 0.6120\n",
            "Epoch 8/30\n",
            "969/973 [============================>.] - ETA: 0s - loss: 1.3495 - accuracy: 0.5577\n",
            "Epoch 8: val_accuracy improved from 0.61507 to 0.64792, saving model to checkpoints_MLP_best_only/checkpoint\n",
            "973/973 [==============================] - 9s 9ms/step - loss: 1.3494 - accuracy: 0.5578 - val_loss: 1.0967 - val_accuracy: 0.6479\n",
            "Epoch 9/30\n",
            "972/973 [============================>.] - ETA: 0s - loss: 1.3457 - accuracy: 0.5593\n",
            "Epoch 9: val_accuracy did not improve from 0.64792\n",
            "973/973 [==============================] - 9s 9ms/step - loss: 1.3460 - accuracy: 0.5592 - val_loss: 1.3902 - val_accuracy: 0.5463\n",
            "Epoch 10/30\n",
            "972/973 [============================>.] - ETA: 0s - loss: 1.3230 - accuracy: 0.5710\n",
            "Epoch 10: val_accuracy did not improve from 0.64792\n",
            "973/973 [==============================] - 9s 9ms/step - loss: 1.3230 - accuracy: 0.5709 - val_loss: 1.1430 - val_accuracy: 0.6338\n",
            "Epoch 11/30\n",
            "973/973 [==============================] - ETA: 0s - loss: 1.3160 - accuracy: 0.5715\n",
            "Epoch 11: val_accuracy did not improve from 0.64792\n",
            "973/973 [==============================] - 9s 9ms/step - loss: 1.3160 - accuracy: 0.5715 - val_loss: 1.1082 - val_accuracy: 0.6479\n",
            "Epoch 12/30\n",
            "970/973 [============================>.] - ETA: 0s - loss: 1.2989 - accuracy: 0.5792\n",
            "Epoch 12: val_accuracy did not improve from 0.64792\n",
            "973/973 [==============================] - 9s 9ms/step - loss: 1.2988 - accuracy: 0.5791 - val_loss: 1.3289 - val_accuracy: 0.5724\n",
            "Epoch 13/30\n",
            "972/973 [============================>.] - ETA: 0s - loss: 1.2725 - accuracy: 0.5918\n",
            "Epoch 13: val_accuracy improved from 0.64792 to 0.66002, saving model to checkpoints_MLP_best_only/checkpoint\n",
            "973/973 [==============================] - 9s 9ms/step - loss: 1.2726 - accuracy: 0.5918 - val_loss: 1.0759 - val_accuracy: 0.6600\n",
            "Epoch 14/30\n",
            "972/973 [============================>.] - ETA: 0s - loss: 1.2592 - accuracy: 0.5945\n",
            "Epoch 14: val_accuracy did not improve from 0.66002\n",
            "973/973 [==============================] - 9s 10ms/step - loss: 1.2591 - accuracy: 0.5946 - val_loss: 1.2570 - val_accuracy: 0.5855\n",
            "Epoch 15/30\n",
            "969/973 [============================>.] - ETA: 0s - loss: 1.2420 - accuracy: 0.6024\n",
            "Epoch 15: val_accuracy did not improve from 0.66002\n",
            "973/973 [==============================] - 10s 10ms/step - loss: 1.2420 - accuracy: 0.6026 - val_loss: 1.1053 - val_accuracy: 0.6514\n",
            "Epoch 16/30\n",
            "969/973 [============================>.] - ETA: 0s - loss: 1.2359 - accuracy: 0.6053\n",
            "Epoch 16: val_accuracy improved from 0.66002 to 0.67085, saving model to checkpoints_MLP_best_only/checkpoint\n",
            "973/973 [==============================] - 9s 9ms/step - loss: 1.2354 - accuracy: 0.6055 - val_loss: 1.0330 - val_accuracy: 0.6709\n",
            "Epoch 17/30\n",
            "969/973 [============================>.] - ETA: 0s - loss: 1.2129 - accuracy: 0.6183\n",
            "Epoch 17: val_accuracy did not improve from 0.67085\n",
            "973/973 [==============================] - 9s 9ms/step - loss: 1.2125 - accuracy: 0.6183 - val_loss: 1.0887 - val_accuracy: 0.6489\n",
            "Epoch 18/30\n",
            "973/973 [==============================] - ETA: 0s - loss: 1.2032 - accuracy: 0.6206\n",
            "Epoch 18: val_accuracy did not improve from 0.67085\n",
            "973/973 [==============================] - 9s 9ms/step - loss: 1.2032 - accuracy: 0.6206 - val_loss: 1.1900 - val_accuracy: 0.6102\n",
            "Epoch 19/30\n",
            "973/973 [==============================] - ETA: 0s - loss: 1.2123 - accuracy: 0.6176\n",
            "Epoch 19: val_accuracy did not improve from 0.67085\n",
            "973/973 [==============================] - 9s 9ms/step - loss: 1.2123 - accuracy: 0.6176 - val_loss: 1.1392 - val_accuracy: 0.6445\n",
            "Epoch 20/30\n",
            "968/973 [============================>.] - ETA: 0s - loss: 1.1833 - accuracy: 0.6270\n",
            "Epoch 20: val_accuracy did not improve from 0.67085\n",
            "973/973 [==============================] - 9s 9ms/step - loss: 1.1832 - accuracy: 0.6271 - val_loss: 1.1402 - val_accuracy: 0.6338\n",
            "Epoch 21/30\n",
            "973/973 [==============================] - ETA: 0s - loss: 1.1631 - accuracy: 0.6348\n",
            "Epoch 21: val_accuracy did not improve from 0.67085\n",
            "973/973 [==============================] - 9s 9ms/step - loss: 1.1631 - accuracy: 0.6348 - val_loss: 1.0746 - val_accuracy: 0.6561\n",
            "Epoch 22/30\n",
            "969/973 [============================>.] - ETA: 0s - loss: 1.1590 - accuracy: 0.6383\n",
            "Epoch 22: val_accuracy did not improve from 0.67085\n",
            "973/973 [==============================] - 9s 9ms/step - loss: 1.1589 - accuracy: 0.6384 - val_loss: 1.1816 - val_accuracy: 0.6215\n",
            "Epoch 23/30\n",
            "969/973 [============================>.] - ETA: 0s - loss: 1.1621 - accuracy: 0.6344\n",
            "Epoch 23: val_accuracy improved from 0.67085 to 0.68323, saving model to checkpoints_MLP_best_only/checkpoint\n",
            "973/973 [==============================] - 9s 9ms/step - loss: 1.1617 - accuracy: 0.6346 - val_loss: 1.0057 - val_accuracy: 0.6832\n",
            "Epoch 24/30\n",
            "973/973 [==============================] - ETA: 0s - loss: 1.1356 - accuracy: 0.6440\n",
            "Epoch 24: val_accuracy improved from 0.68323 to 0.68823, saving model to checkpoints_MLP_best_only/checkpoint\n",
            "973/973 [==============================] - 9s 9ms/step - loss: 1.1356 - accuracy: 0.6440 - val_loss: 0.9983 - val_accuracy: 0.6882\n",
            "Epoch 25/30\n",
            "973/973 [==============================] - ETA: 0s - loss: 1.1304 - accuracy: 0.6465\n",
            "Epoch 25: val_accuracy did not improve from 0.68823\n",
            "973/973 [==============================] - 9s 9ms/step - loss: 1.1304 - accuracy: 0.6465 - val_loss: 1.0052 - val_accuracy: 0.6871\n",
            "Epoch 26/30\n",
            "973/973 [==============================] - ETA: 0s - loss: 1.1236 - accuracy: 0.6485\n",
            "Epoch 26: val_accuracy did not improve from 0.68823\n",
            "973/973 [==============================] - 9s 9ms/step - loss: 1.1236 - accuracy: 0.6485 - val_loss: 1.0043 - val_accuracy: 0.6853\n",
            "Epoch 27/30\n",
            "970/973 [============================>.] - ETA: 0s - loss: 1.1147 - accuracy: 0.6518\n",
            "Epoch 27: val_accuracy did not improve from 0.68823\n",
            "973/973 [==============================] - 9s 9ms/step - loss: 1.1147 - accuracy: 0.6518 - val_loss: 1.0167 - val_accuracy: 0.6723\n",
            "Epoch 28/30\n",
            "971/973 [============================>.] - ETA: 0s - loss: 1.1065 - accuracy: 0.6554\n",
            "Epoch 28: val_accuracy improved from 0.68823 to 0.68978, saving model to checkpoints_MLP_best_only/checkpoint\n",
            "973/973 [==============================] - 9s 9ms/step - loss: 1.1067 - accuracy: 0.6554 - val_loss: 0.9940 - val_accuracy: 0.6898\n",
            "Epoch 29/30\n",
            "969/973 [============================>.] - ETA: 0s - loss: 1.1228 - accuracy: 0.6480\n",
            "Epoch 29: val_accuracy did not improve from 0.68978\n",
            "973/973 [==============================] - 9s 9ms/step - loss: 1.1224 - accuracy: 0.6481 - val_loss: 1.0069 - val_accuracy: 0.6779\n",
            "Epoch 30/30\n",
            "971/973 [============================>.] - ETA: 0s - loss: 1.1240 - accuracy: 0.6474\n",
            "Epoch 30: val_accuracy did not improve from 0.68978\n",
            "973/973 [==============================] - 9s 9ms/step - loss: 1.1245 - accuracy: 0.6472 - val_loss: 1.1249 - val_accuracy: 0.6517\n"
          ]
        }
      ]
    },
    {
      "cell_type": "code",
      "source": [
        "plt.plot(MLP_history.history['loss'])\n",
        "plt.plot(MLP_history.history['val_loss'])\n",
        "plt.title('Loss vs. epochs')\n",
        "plt.ylabel('Loss')\n",
        "plt.xlabel('Epoch')\n",
        "plt.legend(['Training', 'Validation'], loc='upper right')\n",
        "plt.show() "
      ],
      "metadata": {
        "id": "_J0Wox3eP9Q1",
        "colab": {
          "base_uri": "https://localhost:8080/",
          "height": 294
        },
        "outputId": "872c148d-9353-4b4c-b33a-af4481edc516"
      },
      "execution_count": 26,
      "outputs": [
        {
          "output_type": "display_data",
          "data": {
            "image/png": "[encoded data removed]",
            "text/plain": [
              "<Figure size 432x288 with 1 Axes>"
            ]
          },
          "metadata": {
            "needs_background": "light"
          }
        }
      ]
    },
    {
      "cell_type": "code",
      "source": [
        "plt.plot(MLP_history.history['accuracy'])\n",
        "plt.plot(MLP_history.history['val_accuracy'])\n",
        "plt.title('Accuracy vs. epochs')\n",
        "plt.ylabel('Accuracy')\n",
        "plt.xlabel('Epoch')\n",
        "plt.legend(['Training', 'Validation'], loc='lower right')\n",
        "plt.show() "
      ],
      "metadata": {
        "id": "UHtWA2eWQC0o",
        "colab": {
          "base_uri": "https://localhost:8080/",
          "height": 294
        },
        "outputId": "c057b670-05a0-46b2-a52b-ef9810469516"
      },
      "execution_count": 27,
      "outputs": [
        {
          "output_type": "display_data",
          "data": {
            "image/png": "[encoded data removed]",
            "text/plain": [
              "<Figure size 432x288 with 1 Axes>"
            ]
          },
          "metadata": {
            "needs_background": "light"
          }
        }
      ]
    },
    {
      "cell_type": "code",
      "source": [
        "loss, accuracy = model.evaluate(x_test_gray, y_test0to10)\n",
        "print(f\"Test MLP Model loss: {loss}\")\n",
        "print(f\"Test MLP Model accuracy: {accuracy}\")"
      ],
      "metadata": {
        "id": "Qzz_tYFvQFMO",
        "colab": {
          "base_uri": "https://localhost:8080/"
        },
        "outputId": "1fed416c-9902-413f-946c-484c5a3da4d3"
      },
      "execution_count": 28,
      "outputs": [
        {
          "output_type": "stream",
          "name": "stdout",
          "text": [
            "814/814 [==============================] - 3s 4ms/step - loss: 1.2450 - accuracy: 0.6299\n",
            "Test MLP Model loss: 1.2450112104415894\n",
            "Test MLP Model accuracy: 0.6298786401748657\n"
          ]
        }
      ]
    },
    {
      "cell_type": "markdown",
      "metadata": {
        "id": "ncPtDtCLz_Gg"
      },
      "source": [
        "## 3. CNN neural network classifier\n",
        "* Build a CNN classifier model using the Sequential API. Your model should use the Conv2D, MaxPool2D, BatchNormalization, Flatten, Dense and Dropout layers. The final layer should again have a 10-way softmax output. \n",
        "* You should design and build the model yourself. Feel free to experiment with different CNN architectures. _Hint: to achieve a reasonable accuracy you won't need to use more than 2 or 3 convolutional layers and 2 fully connected layers.)_\n",
        "* The CNN model should use fewer trainable parameters than your MLP model.\n",
        "* Compile and train the model (we recommend a maximum of 30 epochs), making use of both training and validation sets during the training run.\n",
        "* Your model should track at least one appropriate metric, and use at least two callbacks during training, one of which should be a ModelCheckpoint callback.\n",
        "* You should aim to beat the MLP model performance with fewer parameters!\n",
        "* Plot the learning curves for loss vs epoch and accuracy vs epoch for both training and validation sets.\n",
        "* Compute and display the loss and accuracy of the trained model on the test set."
      ]
    },
    {
      "cell_type": "code",
      "metadata": {
        "id": "yk2mH3Npz_Gh"
      },
      "source": [
        "def get_CNN_model(input_shape):\n",
        "\n",
        "    model = Sequential([\n",
        "        Conv2D(filters=64, input_shape=input_shape, kernel_size=(3, 3), padding=\"same\",\n",
        "               activation='relu', name='conv_1'),\n",
        "        BatchNormalization(),\n",
        "        Conv2D(filters=32, kernel_size=(3, 3), padding=\"same\", activation='relu', name='conv_2'),\n",
        "        BatchNormalization(),\n",
        "        Conv2D(filters=16, kernel_size=(3, 3), padding=\"same\", activation='relu', name='conv_3'),\n",
        "        BatchNormalization(),\n",
        "        MaxPooling2D(pool_size=(4, 4), name='pool_1'),\n",
        "        Flatten(name='flatten'),\n",
        "        Dense(units=32, activation='relu', name='dense_1'),\n",
        "        BatchNormalization(),\n",
        "        Dense(units=10, activation='softmax', name='dense_2')\n",
        "    ])\n",
        "\n",
        "    return model"
      ],
      "execution_count": 29,
      "outputs": []
    },
    {
      "cell_type": "code",
      "metadata": {
        "id": "lbgRgZ5cz_Gn",
        "colab": {
          "base_uri": "https://localhost:8080/"
        },
        "outputId": "3b83e243-78fd-422d-ced2-d73b7dae5103"
      },
      "source": [
        "CNN_model = get_CNN_model(x_train[0].shape)\n",
        "CNN_model.summary()"
      ],
      "execution_count": 30,
      "outputs": [
        {
          "output_type": "stream",
          "name": "stdout",
          "text": [
            "Model: \"sequential_1\"\n",
            "_________________________________________________________________\n",
            " Layer (type)                Output Shape              Param #   \n",
            "=================================================================\n",
            " conv_1 (Conv2D)             (None, 32, 32, 64)        1792      \n",
            "                                                                 \n",
            " batch_normalization_4 (Batc  (None, 32, 32, 64)       256       \n",
            " hNormalization)                                                 \n",
            "                                                                 \n",
            " conv_2 (Conv2D)             (None, 32, 32, 32)        18464     \n",
            "                                                                 \n",
            " batch_normalization_5 (Batc  (None, 32, 32, 32)       128       \n",
            " hNormalization)                                                 \n",
            "                                                                 \n",
            " conv_3 (Conv2D)             (None, 32, 32, 16)        4624      \n",
            "                                                                 \n",
            " batch_normalization_6 (Batc  (None, 32, 32, 16)       64        \n",
            " hNormalization)                                                 \n",
            "                                                                 \n",
            " pool_1 (MaxPooling2D)       (None, 8, 8, 16)          0         \n",
            "                                                                 \n",
            " flatten (Flatten)           (None, 1024)              0         \n",
            "                                                                 \n",
            " dense_1 (Dense)             (None, 32)                32800     \n",
            "                                                                 \n",
            " batch_normalization_7 (Batc  (None, 32)               128       \n",
            " hNormalization)                                                 \n",
            "                                                                 \n",
            " dense_2 (Dense)             (None, 10)                330       \n",
            "                                                                 \n",
            "=================================================================\n",
            "Total params: 58,586\n",
            "Trainable params: 58,298\n",
            "Non-trainable params: 288\n",
            "_________________________________________________________________\n"
          ]
        }
      ]
    },
    {
      "cell_type": "code",
      "metadata": {
        "id": "nkmS2vV2z_Gs"
      },
      "source": [
        "CNN_model.compile(loss='sparse_categorical_crossentropy', optimizer='adam', metrics = [\"accuracy\"])"
      ],
      "execution_count": 31,
      "outputs": []
    },
    {
      "cell_type": "code",
      "metadata": {
        "id": "VytQECDVz_Gv"
      },
      "source": [
        "checkpoint_CNN_best_path = 'checkpoints_CNN_best_only/checkpoint'\n",
        "checkpoint_best = ModelCheckpoint(filepath=checkpoint_CNN_best_path,\n",
        "                                  save_weights_only=True,\n",
        "                                  save_freq='epoch',\n",
        "                                  monitor='val_accuracy',\n",
        "                                  save_best_only=True,\n",
        "                                  verbose=1)"
      ],
      "execution_count": 32,
      "outputs": []
    },
    {
      "cell_type": "code",
      "metadata": {
        "id": "60mJypwQz_Gx",
        "colab": {
          "base_uri": "https://localhost:8080/"
        },
        "outputId": "5116cb13-4b4e-4330-8672-35619bc9c688"
      },
      "source": [
        "CNN_history = CNN_model.fit(x_train, y_train0to10, epochs=30,\n",
        "                            validation_split=0.15, batch_size=64, verbose=1,\n",
        "                            callbacks=[early_stopping, checkpoint_best])"
      ],
      "execution_count": null,
      "outputs": [
        {
          "output_type": "stream",
          "name": "stdout",
          "text": [
            "Epoch 1/30\n",
            "973/973 [==============================] - ETA: 0s - loss: 0.7903 - accuracy: 0.7577\n",
            "Epoch 1: val_accuracy improved from -inf to 0.83283, saving model to checkpoints_CNN_best_only/checkpoint\n",
            "973/973 [==============================] - 470s 482ms/step - loss: 0.7903 - accuracy: 0.7577 - val_loss: 0.5579 - val_accuracy: 0.8328\n",
            "Epoch 2/30\n",
            "973/973 [==============================] - ETA: 0s - loss: 0.4611 - accuracy: 0.8647\n",
            "Epoch 2: val_accuracy improved from 0.83283 to 0.86532, saving model to checkpoints_CNN_best_only/checkpoint\n",
            "973/973 [==============================] - 477s 490ms/step - loss: 0.4611 - accuracy: 0.8647 - val_loss: 0.4429 - val_accuracy: 0.8653\n",
            "Epoch 3/30\n",
            "973/973 [==============================] - ETA: 0s - loss: 0.3972 - accuracy: 0.8806\n",
            "Epoch 3: val_accuracy did not improve from 0.86532\n",
            "973/973 [==============================] - 476s 489ms/step - loss: 0.3972 - accuracy: 0.8806 - val_loss: 0.4891 - val_accuracy: 0.8488\n",
            "Epoch 4/30\n",
            "973/973 [==============================] - ETA: 0s - loss: 0.3597 - accuracy: 0.8928\n",
            "Epoch 4: val_accuracy did not improve from 0.86532\n",
            "973/973 [==============================] - 476s 489ms/step - loss: 0.3597 - accuracy: 0.8928 - val_loss: 0.5460 - val_accuracy: 0.8310\n",
            "Epoch 5/30\n",
            "973/973 [==============================] - ETA: 0s - loss: 0.3360 - accuracy: 0.8992\n",
            "Epoch 5: val_accuracy improved from 0.86532 to 0.87915, saving model to checkpoints_CNN_best_only/checkpoint\n",
            "973/973 [==============================] - 474s 488ms/step - loss: 0.3360 - accuracy: 0.8992 - val_loss: 0.4022 - val_accuracy: 0.8792\n",
            "Epoch 6/30\n",
            "973/973 [==============================] - ETA: 0s - loss: 0.3157 - accuracy: 0.9046\n",
            "Epoch 6: val_accuracy improved from 0.87915 to 0.88953, saving model to checkpoints_CNN_best_only/checkpoint\n",
            "973/973 [==============================] - 476s 489ms/step - loss: 0.3157 - accuracy: 0.9046 - val_loss: 0.3801 - val_accuracy: 0.8895\n",
            "Epoch 7/30\n",
            "973/973 [==============================] - ETA: 0s - loss: 0.2966 - accuracy: 0.9112\n",
            "Epoch 7: val_accuracy did not improve from 0.88953\n",
            "973/973 [==============================] - 478s 491ms/step - loss: 0.2966 - accuracy: 0.9112 - val_loss: 0.3841 - val_accuracy: 0.8871\n",
            "Epoch 8/30\n",
            "973/973 [==============================] - ETA: 0s - loss: 0.2825 - accuracy: 0.9154\n",
            "Epoch 8: val_accuracy improved from 0.88953 to 0.89307, saving model to checkpoints_CNN_best_only/checkpoint\n",
            "973/973 [==============================] - 480s 493ms/step - loss: 0.2825 - accuracy: 0.9154 - val_loss: 0.3691 - val_accuracy: 0.8931\n",
            "Epoch 9/30\n",
            "973/973 [==============================] - ETA: 0s - loss: 0.2699 - accuracy: 0.9183\n",
            "Epoch 9: val_accuracy improved from 0.89307 to 0.89462, saving model to checkpoints_CNN_best_only/checkpoint\n",
            "973/973 [==============================] - 473s 487ms/step - loss: 0.2699 - accuracy: 0.9183 - val_loss: 0.3759 - val_accuracy: 0.8946\n",
            "Epoch 10/30\n",
            "973/973 [==============================] - ETA: 0s - loss: 0.2577 - accuracy: 0.9213\n",
            "Epoch 10: val_accuracy improved from 0.89462 to 0.89480, saving model to checkpoints_CNN_best_only/checkpoint\n",
            "973/973 [==============================] - 478s 491ms/step - loss: 0.2577 - accuracy: 0.9213 - val_loss: 0.3574 - val_accuracy: 0.8948\n",
            "Epoch 11/30\n",
            "973/973 [==============================] - ETA: 0s - loss: 0.2455 - accuracy: 0.9255\n",
            "Epoch 11: val_accuracy improved from 0.89480 to 0.89671, saving model to checkpoints_CNN_best_only/checkpoint\n",
            "973/973 [==============================] - 478s 491ms/step - loss: 0.2455 - accuracy: 0.9255 - val_loss: 0.3555 - val_accuracy: 0.8967\n",
            "Epoch 12/30\n",
            "973/973 [==============================] - ETA: 0s - loss: 0.2342 - accuracy: 0.9293\n",
            "Epoch 12: val_accuracy did not improve from 0.89671\n",
            "973/973 [==============================] - 474s 487ms/step - loss: 0.2342 - accuracy: 0.9293 - val_loss: 0.3804 - val_accuracy: 0.8897\n",
            "Epoch 13/30\n",
            "123/973 [==>...........................] - ETA: 6:37 - loss: 0.2084 - accuracy: 0.9355"
          ]
        }
      ]
    },
    {
      "cell_type": "code",
      "metadata": {
        "id": "w2v80qosz_G0"
      },
      "source": [
        "plt.plot(CNN_history.history['loss'])\n",
        "plt.plot(CNN_history.history['val_loss'])\n",
        "plt.title('Loss vs. epochs')\n",
        "plt.ylabel('Loss')\n",
        "plt.xlabel('Epoch')\n",
        "plt.legend(['Training', 'Validation'], loc='upper right')\n",
        "plt.show() "
      ],
      "execution_count": null,
      "outputs": []
    },
    {
      "cell_type": "code",
      "source": [
        "plt.plot(CNN_history.history['accuracy'])\n",
        "plt.plot(CNN_history.history['val_accuracy'])\n",
        "plt.title('Accuracy vs. epochs')\n",
        "plt.ylabel('Accuracy')\n",
        "plt.xlabel('Epoch')\n",
        "plt.legend(['Training', 'Validation'], loc='lower right')\n",
        "plt.show() "
      ],
      "metadata": {
        "id": "S36NE2idQg_H"
      },
      "execution_count": null,
      "outputs": []
    },
    {
      "cell_type": "code",
      "source": [
        "loss, accuracy = CNN_model.evaluate(x_test, y_test0to10)\n",
        "print(f\"Test CNN model loss: {loss}\")\n",
        "print(f\"Test CNN model accuracy: {accuracy}\")"
      ],
      "metadata": {
        "id": "gLNLRzX2QjfN"
      },
      "execution_count": null,
      "outputs": []
    },
    {
      "cell_type": "markdown",
      "metadata": {
        "id": "3iBYFPWUz_G4"
      },
      "source": [
        "## 4. Get model predictions\n",
        "* Load the best weights for the MLP and CNN models that you saved during the training run.\n",
        "* Randomly select 5 images and corresponding labels from the test set and display the images with their labels.\n",
        "* Alongside the image and label, show each model’s predictive distribution as a bar chart, and the final model prediction given by the label with maximum probability."
      ]
    },
    {
      "cell_type": "code",
      "metadata": {
        "id": "XMYYWs0oz_G5"
      },
      "source": [
        "# New model from checkpoints\n",
        "checkpoint_best_path = 'checkpoints_MLP_best_only/checkpoint'\n",
        "model = get_MLP_model(x_train_gray[0].shape, 1e-5, 0.3)\n",
        "model.load_weights(checkpoint_best_path)"
      ],
      "execution_count": null,
      "outputs": []
    },
    {
      "cell_type": "code",
      "source": [
        "rand = np.random.random_integers(len(x_test_gray), size=(5,))\n",
        "random_test_labels = y_test[rand] \n",
        "\n",
        "fig, ax = plt.subplots(1, 10, figsize=(5, 1))\n",
        "\n",
        "for i, label in enumerate(random_test_labels):\n",
        "    idx = rand[i]\n",
        "\n",
        "    ax[i].set_axis_off()\n",
        "    ax[i].imshow(x_train[idx])\n",
        "    ax[i].set_title(f'Label:{label}')\n",
        "\n",
        "plt.show()"
      ],
      "metadata": {
        "id": "631yxVl8Q6Zd"
      },
      "execution_count": null,
      "outputs": []
    },
    {
      "cell_type": "code",
      "metadata": {
        "id": "8yUPWbFCz_G8"
      },
      "source": [
        "# Run this cell to get model predictions on randomly selected test images\n",
        "\n",
        "num_test_images = x_test_gray.shape[0]\n",
        "\n",
        "random_inx = np.random.choice(num_test_images, 5)\n",
        "random_test_images = x_test_gray[random_inx, ...]\n",
        "random_test_labels = y_test0to10[random_inx, ...]\n",
        "\n",
        "predictions = model.predict(random_test_images)\n",
        "\n",
        "fig, axes = plt.subplots(5, 2, figsize=(16, 12))\n",
        "fig.subplots_adjust(hspace=0.4, wspace=-0.2)\n",
        "\n",
        "for i, (prediction, image, label) in enumerate(zip(predictions, random_test_images, random_test_labels)):\n",
        "    axes[i, 0].imshow(np.squeeze(image), cmap='gray')\n",
        "    axes[i, 0].get_xaxis().set_visible(False)\n",
        "    axes[i, 0].get_yaxis().set_visible(False)\n",
        "    axes[i, 0].text(10., -1.5, f'Digit {label}')\n",
        "    axes[i, 1].bar(np.arange(len(prediction)), prediction)\n",
        "    axes[i, 1].set_xticks(np.arange(len(prediction)))\n",
        "    axes[i, 1].set_title(f\"Categorical distribution. Model prediction: {np.argmax(prediction)}\")\n",
        "    \n",
        "plt.show()"
      ],
      "execution_count": null,
      "outputs": []
    },
    {
      "cell_type": "code",
      "metadata": {
        "id": "2Lx68VA7z_HE"
      },
      "source": [
        "model.save(\"./SVHN_MLP_001.h5\")"
      ],
      "execution_count": null,
      "outputs": []
    },
    {
      "cell_type": "code",
      "metadata": {
        "id": "W48syko0z_G-"
      },
      "source": [
        "# New model from checkpoints\n",
        "checkpoint_best_path = 'checkpoints_CNN_best_only/checkpoint'\n",
        "model = get_CNN_model(x_train.shape)\n",
        "model.load_weights(checkpoint_best_path)"
      ],
      "execution_count": null,
      "outputs": []
    },
    {
      "cell_type": "code",
      "source": [
        "rand = np.random.random_integers(len(x_test), size=(5,))\n",
        "random_test_labels = y_test[rand] \n",
        "\n",
        "fig, ax = plt.subplots(1, 10, figsize=(5, 1))\n",
        "\n",
        "for i, label in enumerate(random_test_labels):\n",
        "    idx = rand[i]\n",
        "\n",
        "    ax[i].set_axis_off()\n",
        "    ax[i].imshow(x_train[idx])\n",
        "    ax[i].set_title(f'Label:{label}')\n",
        "\n",
        "plt.show()"
      ],
      "metadata": {
        "id": "1vYePS6tRpSm"
      },
      "execution_count": null,
      "outputs": []
    },
    {
      "cell_type": "code",
      "metadata": {
        "id": "J_qfLvK-z_HA"
      },
      "source": [
        "# Run this cell to get model predictions on randomly selected test images\n",
        "\n",
        "num_test_images = x_test.shape[0]\n",
        "\n",
        "random_inx = np.random.choice(num_test_images, 5)\n",
        "random_test_images = x_test[random_inx, ...]\n",
        "random_test_labels = y_test0to10[random_inx, ...]\n",
        "\n",
        "predictions = model.predict(random_test_images)\n",
        "\n",
        "fig, axes = plt.subplots(5, 2, figsize=(16, 12))\n",
        "fig.subplots_adjust(hspace=0.4, wspace=-0.2)\n",
        "\n",
        "for i, (prediction, image, label) in enumerate(zip(predictions, random_test_images, random_test_labels)):\n",
        "    axes[i, 0].imshow(np.squeeze(image))\n",
        "    axes[i, 0].get_xaxis().set_visible(False)\n",
        "    axes[i, 0].get_yaxis().set_visible(False)\n",
        "    axes[i, 0].text(10., -1.5, f'Digit {label}')\n",
        "    axes[i, 1].bar(np.arange(len(prediction)), prediction)\n",
        "    axes[i, 1].set_xticks(np.arange(len(prediction)))\n",
        "    axes[i, 1].set_title(f\"Categorical distribution. Model prediction: {np.argmax(prediction)}\")\n",
        "    \n",
        "plt.show()"
      ],
      "execution_count": null,
      "outputs": []
    },
    {
      "cell_type": "code",
      "metadata": {
        "id": "NxKa37PWz_HL"
      },
      "source": [
        "model.save(\"./SVHN_CNN_001.h5\")"
      ],
      "execution_count": null,
      "outputs": []
    },
    {
      "cell_type": "code",
      "source": [
        "# 모델을 내 컴퓨터에 저장\n",
        "from google.colab import files\n",
        "files.download('./SVHN_MLP_001.h5')\n",
        "files.download('./SVHN_CNN_001.h5')"
      ],
      "metadata": {
        "id": "M2_QL-dlSEnF"
      },
      "execution_count": null,
      "outputs": []
    },
    {
      "cell_type": "code",
      "source": [
        ""
      ],
      "metadata": {
        "id": "2sR3JqnPhAOh"
      },
      "execution_count": null,
      "outputs": []
    }
  ]
}