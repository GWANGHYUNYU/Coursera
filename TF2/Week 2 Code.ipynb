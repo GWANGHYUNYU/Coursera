{
 "cells": [
  {
   "cell_type": "code",
   "execution_count": 2,
   "metadata": {
    "collapsed": true
   },
   "outputs": [
    {
     "name": "stdout",
     "output_type": "stream",
     "text": [
      "2.8.0\n"
     ]
    }
   ],
   "source": [
    "import tensorflow as tf\n",
    "print(tf.__version__)"
   ]
  },
  {
   "cell_type": "code",
   "execution_count": 3,
   "metadata": {
    "collapsed": false,
    "pycharm": {
     "name": "#%%\n"
    }
   },
   "outputs": [],
   "source": [
    "%matplotlib inline\n",
    "import matplotlib.pyplot as plt\n",
    "import numpy as np\n",
    "import pandas as pd\n",
    "\n",
    "from tensorflow.keras.models import Sequential\n",
    "from tensorflow.keras.layers import Dense, Flatten, Softmax, Conv1D, Conv2D, MaxPooling2D, MaxPooling1D\n",
    "from tensorflow.keras.preprocessing import image\n",
    "import tensorflow.keras.backend as K"
   ]
  },
  {
   "cell_type": "code",
   "execution_count": 4,
   "metadata": {
    "collapsed": false,
    "pycharm": {
     "name": "#%%\n"
    }
   },
   "outputs": [],
   "source": [
    "# Build the Sequential feedforward neural network model\n",
    "model = Sequential([\n",
    "    Flatten(input_shape=(28, 28)),\n",
    "    Dense(16, activation='relu'),\n",
    "    Dense(16, activation='relu'),\n",
    "    Dense(16, activation='relu'),\n",
    "    Dense(10, activation='softmax'),\n",
    "])"
   ]
  },
  {
   "cell_type": "code",
   "execution_count": 5,
   "metadata": {
    "collapsed": false,
    "pycharm": {
     "name": "#%%\n"
    }
   },
   "outputs": [
    {
     "name": "stdout",
     "output_type": "stream",
     "text": [
      "Model: \"sequential\"\n",
      "_________________________________________________________________\n",
      " Layer (type)                Output Shape              Param #   \n",
      "=================================================================\n",
      " flatten (Flatten)           (None, 784)               0         \n",
      "                                                                 \n",
      " dense (Dense)               (None, 16)                12560     \n",
      "                                                                 \n",
      " dense_1 (Dense)             (None, 16)                272       \n",
      "                                                                 \n",
      " dense_2 (Dense)             (None, 16)                272       \n",
      "                                                                 \n",
      " dense_3 (Dense)             (None, 10)                170       \n",
      "                                                                 \n",
      "=================================================================\n",
      "Total params: 13,274\n",
      "Trainable params: 13,274\n",
      "Non-trainable params: 0\n",
      "_________________________________________________________________\n"
     ]
    }
   ],
   "source": [
    "model.summary()"
   ]
  },
  {
   "cell_type": "code",
   "execution_count": 6,
   "metadata": {
    "collapsed": false,
    "pycharm": {
     "name": "#%%\n"
    }
   },
   "outputs": [],
   "source": [
    "# Build the Sequential convolutional neural network model\n",
    "CNN_model = Sequential([\n",
    "    Conv2D(16, (3, 3), padding='same', activation='relu', strides = 2, input_shape=(28, 28, 1), data_format='channels_last'),\n",
    "    MaxPooling2D((2, 2)),\n",
    "    Flatten(),\n",
    "    Dense(16, activation='relu'),\n",
    "    Dense(10, activation='softmax'),\n",
    "])"
   ]
  },
  {
   "cell_type": "code",
   "execution_count": 7,
   "metadata": {
    "collapsed": false,
    "pycharm": {
     "name": "#%%\n"
    }
   },
   "outputs": [
    {
     "name": "stdout",
     "output_type": "stream",
     "text": [
      "Model: \"sequential_1\"\n",
      "_________________________________________________________________\n",
      " Layer (type)                Output Shape              Param #   \n",
      "=================================================================\n",
      " conv2d (Conv2D)             (None, 14, 14, 16)        160       \n",
      "                                                                 \n",
      " max_pooling2d (MaxPooling2D  (None, 7, 7, 16)         0         \n",
      " )                                                               \n",
      "                                                                 \n",
      " flatten_1 (Flatten)         (None, 784)               0         \n",
      "                                                                 \n",
      " dense_4 (Dense)             (None, 16)                12560     \n",
      "                                                                 \n",
      " dense_5 (Dense)             (None, 10)                170       \n",
      "                                                                 \n",
      "=================================================================\n",
      "Total params: 12,890\n",
      "Trainable params: 12,890\n",
      "Non-trainable params: 0\n",
      "_________________________________________________________________\n"
     ]
    }
   ],
   "source": [
    "CNN_model.summary()"
   ]
  },
  {
   "cell_type": "code",
   "execution_count": 8,
   "metadata": {
    "collapsed": false,
    "pycharm": {
     "name": "#%%\n"
    }
   },
   "outputs": [],
   "source": [
    "W_B_model = Sequential([\n",
    "    Conv1D(filters=16, kernel_size=3, input_shape=(128, 64), kernel_initializer='random_uniform', bias_initializer=\"zeros\", activation='relu'),\n",
    "    MaxPooling1D(pool_size=4),\n",
    "    Flatten(),\n",
    "    Dense(64, kernel_initializer='he_uniform', bias_initializer='ones', activation='relu'),\n",
    "])"
   ]
  },
  {
   "cell_type": "code",
   "execution_count": 9,
   "metadata": {
    "collapsed": false,
    "pycharm": {
     "name": "#%%\n"
    }
   },
   "outputs": [],
   "source": [
    "#Adding some layers to our model\n",
    "W_B_model.add(Dense(64,\n",
    "                kernel_initializer=tf.keras.initializers.RandomNormal(mean=0.0, stddev=0.05),\n",
    "                bias_initializer=tf.keras.initializers.Constant(value=0.4),\n",
    "                activation='relu'),)\n",
    "\n",
    "W_B_model.add(Dense(8,\n",
    "                kernel_initializer=tf.keras.initializers.Orthogonal(gain=1.0, seed=None),\n",
    "                bias_initializer=tf.keras.initializers.Constant(value=0.4),\n",
    "                activation='relu'))"
   ]
  },
  {
   "cell_type": "code",
   "execution_count": 10,
   "metadata": {
    "collapsed": false,
    "pycharm": {
     "name": "#%%\n"
    }
   },
   "outputs": [
    {
     "data": {
      "text/plain": [
       "[<tf.Variable 'conv1d/kernel:0' shape=(3, 64, 16) dtype=float32, numpy=\n",
       " array([[[-0.0452905 , -0.0307135 ,  0.04411569, ..., -0.00050948,\n",
       "           0.01574088, -0.01040963],\n",
       "         [ 0.03000205,  0.00025688, -0.00157066, ...,  0.01016798,\n",
       "           0.01640112, -0.02738242],\n",
       "         [ 0.03499014,  0.01594924, -0.02944996, ...,  0.03622857,\n",
       "          -0.02824397, -0.03390833],\n",
       "         ...,\n",
       "         [-0.04287672,  0.03907443, -0.04744883, ...,  0.04245622,\n",
       "          -0.03358078,  0.01645496],\n",
       "         [-0.01946398, -0.00255313,  0.00531147, ..., -0.00648705,\n",
       "           0.01887263,  0.01371979],\n",
       "         [-0.02968832, -0.04143709, -0.0010292 , ..., -0.03303017,\n",
       "          -0.01491238, -0.03715825]],\n",
       " \n",
       "        [[-0.01862269, -0.00066928, -0.00229008, ..., -0.04227903,\n",
       "          -0.03494986, -0.03226954],\n",
       "         [ 0.02016291,  0.00276025,  0.00493374, ...,  0.00068631,\n",
       "           0.03264972, -0.03848539],\n",
       "         [ 0.00716882,  0.03493334, -0.03763858, ..., -0.01791638,\n",
       "           0.0368664 ,  0.00352759],\n",
       "         ...,\n",
       "         [ 0.00727089,  0.02375922, -0.04063808, ..., -0.03337719,\n",
       "          -0.00187998, -0.02815043],\n",
       "         [-0.04856412,  0.02220582,  0.02357418, ..., -0.04854498,\n",
       "          -0.00234828, -0.03242932],\n",
       "         [-0.04107564, -0.00746547,  0.00740881, ...,  0.00212157,\n",
       "          -0.01264156, -0.02735509]],\n",
       " \n",
       "        [[ 0.04678054, -0.03278097, -0.01952106, ..., -0.00810155,\n",
       "           0.03787306, -0.02202385],\n",
       "         [ 0.03670067, -0.02852895, -0.00853691, ...,  0.03456848,\n",
       "          -0.0216665 ,  0.01954461],\n",
       "         [ 0.02440475, -0.02347173, -0.04864162, ...,  0.03079415,\n",
       "          -0.04741523,  0.02736434],\n",
       "         ...,\n",
       "         [-0.03215156,  0.01865042, -0.0270113 , ...,  0.03664241,\n",
       "          -0.03028635, -0.00758775],\n",
       "         [ 0.03866965, -0.02856573, -0.045213  , ..., -0.04100547,\n",
       "          -0.04768434,  0.02423726],\n",
       "         [ 0.03066221,  0.00076585, -0.03995806, ...,  0.04579837,\n",
       "           0.02832789,  0.03920055]]], dtype=float32)>,\n",
       " <tf.Variable 'conv1d/bias:0' shape=(16,) dtype=float32, numpy=\n",
       " array([0., 0., 0., 0., 0., 0., 0., 0., 0., 0., 0., 0., 0., 0., 0., 0.],\n",
       "       dtype=float32)>,\n",
       " <tf.Variable 'dense_6/kernel:0' shape=(496, 64) dtype=float32, numpy=\n",
       " array([[-0.09203134,  0.05723271,  0.07062863, ...,  0.09539996,\n",
       "         -0.01583737,  0.09357519],\n",
       "        [-0.09510695,  0.0639002 ,  0.09459171, ..., -0.07631737,\n",
       "          0.0178573 , -0.04178856],\n",
       "        [-0.0673823 , -0.10254246,  0.06214678, ..., -0.00162766,\n",
       "         -0.0484057 ,  0.07038403],\n",
       "        ...,\n",
       "        [ 0.02877194,  0.07310715, -0.05428851, ...,  0.0647072 ,\n",
       "         -0.08855126,  0.08795263],\n",
       "        [-0.02451654, -0.08720095, -0.02597383, ...,  0.00669881,\n",
       "          0.00510671, -0.05995665],\n",
       "        [-0.08395151, -0.03186708,  0.09640646, ..., -0.07452149,\n",
       "          0.01541503,  0.10462865]], dtype=float32)>,\n",
       " <tf.Variable 'dense_6/bias:0' shape=(64,) dtype=float32, numpy=\n",
       " array([1., 1., 1., 1., 1., 1., 1., 1., 1., 1., 1., 1., 1., 1., 1., 1., 1.,\n",
       "        1., 1., 1., 1., 1., 1., 1., 1., 1., 1., 1., 1., 1., 1., 1., 1., 1.,\n",
       "        1., 1., 1., 1., 1., 1., 1., 1., 1., 1., 1., 1., 1., 1., 1., 1., 1.,\n",
       "        1., 1., 1., 1., 1., 1., 1., 1., 1., 1., 1., 1., 1.], dtype=float32)>,\n",
       " <tf.Variable 'dense_7/kernel:0' shape=(64, 64) dtype=float32, numpy=\n",
       " array([[-4.39670719e-02,  3.84513251e-02, -3.09584625e-02, ...,\n",
       "         -3.66113000e-02,  7.17590153e-02, -1.02110580e-01],\n",
       "        [-3.58819403e-02, -1.41585385e-02, -6.52291998e-02, ...,\n",
       "         -9.11523495e-03, -6.08251058e-02, -6.63750619e-02],\n",
       "        [-8.47477391e-02, -5.01737669e-02,  4.51483168e-02, ...,\n",
       "          6.10719994e-03,  4.42736186e-02,  3.55074741e-02],\n",
       "        ...,\n",
       "        [-6.19333684e-02, -4.06127945e-02,  3.68701927e-02, ...,\n",
       "          4.52427529e-02,  3.63272540e-02, -2.36331578e-02],\n",
       "        [ 1.47467656e-02,  2.33461801e-02, -2.90008485e-02, ...,\n",
       "         -1.20155983e-01,  4.01889421e-02,  2.49909516e-02],\n",
       "        [ 3.21733169e-02,  1.12079724e-04, -4.23232093e-02, ...,\n",
       "          1.84628684e-02,  1.68825593e-02,  4.83274553e-03]], dtype=float32)>,\n",
       " <tf.Variable 'dense_7/bias:0' shape=(64,) dtype=float32, numpy=\n",
       " array([0.4, 0.4, 0.4, 0.4, 0.4, 0.4, 0.4, 0.4, 0.4, 0.4, 0.4, 0.4, 0.4,\n",
       "        0.4, 0.4, 0.4, 0.4, 0.4, 0.4, 0.4, 0.4, 0.4, 0.4, 0.4, 0.4, 0.4,\n",
       "        0.4, 0.4, 0.4, 0.4, 0.4, 0.4, 0.4, 0.4, 0.4, 0.4, 0.4, 0.4, 0.4,\n",
       "        0.4, 0.4, 0.4, 0.4, 0.4, 0.4, 0.4, 0.4, 0.4, 0.4, 0.4, 0.4, 0.4,\n",
       "        0.4, 0.4, 0.4, 0.4, 0.4, 0.4, 0.4, 0.4, 0.4, 0.4, 0.4, 0.4],\n",
       "       dtype=float32)>,\n",
       " <tf.Variable 'dense_8/kernel:0' shape=(64, 8) dtype=float32, numpy=\n",
       " array([[-3.72351408e-02, -1.19450472e-01, -4.62617874e-02,\n",
       "          6.28369451e-02,  1.77803129e-01,  3.01654190e-01,\n",
       "         -1.20173633e-01,  1.11268796e-01],\n",
       "        [-6.31554425e-02,  2.30178293e-02,  1.53184727e-01,\n",
       "         -1.83071885e-02, -7.84782246e-02,  1.18550748e-01,\n",
       "         -2.40634829e-02, -1.86809525e-01],\n",
       "        [-6.15324676e-02, -2.92214125e-01, -3.54423677e-03,\n",
       "         -5.05753607e-02, -1.67591661e-01, -2.89100539e-02,\n",
       "          1.72137141e-01,  3.12636010e-02],\n",
       "        [ 2.03289673e-01,  4.91844714e-02, -5.59248812e-02,\n",
       "          8.78076255e-02, -6.80727661e-02,  7.20929652e-02,\n",
       "          2.05670327e-01,  2.55496591e-01],\n",
       "        [-1.63223043e-01, -5.47256507e-02, -7.25832628e-03,\n",
       "         -3.71864066e-02, -2.05386430e-02,  7.49740154e-02,\n",
       "         -5.98449335e-02,  1.85251981e-01],\n",
       "        [ 1.76973969e-01,  7.13899732e-02,  8.99424851e-02,\n",
       "         -2.59251505e-01, -1.53750241e-01, -5.07939309e-02,\n",
       "          1.68234244e-01, -1.54885277e-01],\n",
       "        [ 1.20880753e-02, -2.08029836e-01,  2.89458722e-01,\n",
       "          6.18293285e-02, -5.23580126e-02,  1.09671943e-01,\n",
       "          1.75888479e-01,  2.57210314e-01],\n",
       "        [-2.59463191e-01, -2.13000104e-02, -1.06650859e-01,\n",
       "         -6.09145984e-02, -2.93169059e-02,  1.10759005e-01,\n",
       "         -1.22433022e-01,  3.88162911e-01],\n",
       "        [ 1.86385944e-01,  1.16908327e-01,  4.26925756e-02,\n",
       "         -2.18822025e-02,  2.49861367e-02, -1.71911836e-01,\n",
       "         -4.70242649e-02,  1.90681610e-02],\n",
       "        [-3.07449121e-02,  7.41922930e-02,  1.74670573e-02,\n",
       "          1.73333451e-01,  1.95673436e-01, -3.53150535e-03,\n",
       "          1.34951789e-02,  9.51809902e-03],\n",
       "        [-2.47153372e-01,  9.13660079e-02,  1.93641067e-01,\n",
       "         -8.33930299e-02,  7.77687430e-02,  7.22252727e-02,\n",
       "         -5.74595667e-03,  1.30297512e-01],\n",
       "        [-9.24309865e-02, -1.51269007e-02,  9.04084742e-02,\n",
       "          9.16733444e-02, -1.73531339e-01,  1.91971213e-02,\n",
       "         -1.23967201e-01,  1.97725981e-01],\n",
       "        [ 1.38703376e-01,  1.36620671e-01,  1.21560127e-01,\n",
       "         -3.14911395e-01, -6.01127557e-03, -4.52824384e-02,\n",
       "         -1.15563735e-01,  1.77540228e-01],\n",
       "        [ 1.19653471e-01, -5.30426726e-02,  1.42447665e-01,\n",
       "         -6.32084385e-02, -8.63763988e-02, -1.17313340e-01,\n",
       "         -1.97110698e-01, -6.96332231e-02],\n",
       "        [-1.56009784e-02,  4.82037961e-02, -4.62696664e-02,\n",
       "          5.61387427e-02, -4.13278453e-02, -5.93443513e-02,\n",
       "         -1.90936550e-02,  3.65889408e-02],\n",
       "        [-5.28078638e-02, -6.69438466e-02, -8.51048529e-02,\n",
       "          2.88103726e-02, -1.23116551e-02,  6.56266138e-02,\n",
       "          2.63262354e-02, -9.51943770e-02],\n",
       "        [ 1.42745286e-01, -6.06140569e-02, -2.80599356e-01,\n",
       "         -1.45294428e-01,  5.52114695e-02,  2.24625990e-01,\n",
       "         -1.21640489e-01,  1.40788406e-02],\n",
       "        [-2.17775479e-01, -5.04633747e-02, -1.85245499e-01,\n",
       "         -7.71041811e-02, -9.33679789e-02, -1.58708185e-01,\n",
       "          6.47401661e-02, -3.78052890e-03],\n",
       "        [-1.18211001e-01, -9.32329446e-02,  1.67576835e-01,\n",
       "          7.72307366e-02, -7.36626461e-02, -3.46994735e-02,\n",
       "          4.26827632e-02, -4.83707562e-02],\n",
       "        [-5.41098714e-02,  1.54840261e-01, -2.01132134e-01,\n",
       "          7.57858083e-02,  1.24868834e-02,  6.10143095e-02,\n",
       "          2.82950163e-01,  4.32769163e-03],\n",
       "        [ 6.53612763e-02,  8.84823035e-04, -3.70015241e-02,\n",
       "         -4.28114571e-02, -1.68165043e-01,  1.43961683e-01,\n",
       "         -2.44705066e-01,  1.19901061e-01],\n",
       "        [-9.11533833e-02,  4.52107340e-02, -1.44920200e-01,\n",
       "          2.04842046e-01,  8.12339708e-02, -4.36074361e-02,\n",
       "         -2.25082606e-01, -1.13530075e-02],\n",
       "        [ 2.80588139e-02,  1.12930074e-01,  2.01374721e-02,\n",
       "         -1.45675056e-02, -2.04385906e-01, -1.77377746e-01,\n",
       "         -3.07125263e-02,  2.28782333e-02],\n",
       "        [ 1.39987953e-02, -4.85692583e-02,  1.99516654e-01,\n",
       "          2.99863052e-02, -2.37237290e-01,  3.65280025e-02,\n",
       "         -5.17718345e-02,  2.29010172e-02],\n",
       "        [-5.21800555e-02, -8.13017413e-02, -3.84511724e-02,\n",
       "          2.82229688e-02,  7.45017007e-02, -5.70386611e-02,\n",
       "          2.99901571e-02,  4.92047472e-03],\n",
       "        [ 1.60779357e-01, -1.33324966e-01, -5.33060953e-02,\n",
       "         -6.53804541e-02,  3.05027068e-01, -2.03824401e-01,\n",
       "         -1.05039597e-01, -2.16444489e-02],\n",
       "        [-6.82937056e-02,  7.52001852e-02,  6.73083067e-02,\n",
       "         -7.19114393e-03,  5.22774942e-02, -1.35453701e-01,\n",
       "          3.92100140e-02,  1.61811009e-01],\n",
       "        [-1.51694372e-01,  2.21257389e-01, -5.51051795e-02,\n",
       "         -6.67568147e-02,  4.57344353e-02,  7.04167783e-02,\n",
       "          1.33987278e-01, -2.37421244e-01],\n",
       "        [ 3.76216194e-04,  1.00986287e-01,  7.86553919e-02,\n",
       "         -1.00969881e-01,  5.14052324e-02, -8.14548805e-02,\n",
       "         -2.84593523e-01,  1.10277478e-02],\n",
       "        [-1.89493224e-01,  8.90597329e-02,  1.66803271e-01,\n",
       "         -4.72319908e-02, -2.35715099e-02,  3.80799100e-02,\n",
       "         -1.01740606e-01,  1.24442674e-01],\n",
       "        [-7.19304606e-02, -7.40653276e-02,  7.09011480e-02,\n",
       "          6.88573644e-02, -1.02614485e-01,  3.46662611e-01,\n",
       "         -9.93026868e-02, -5.86590245e-02],\n",
       "        [ 1.01287372e-01, -1.97147489e-01, -1.31043911e-01,\n",
       "         -1.16391229e-02,  1.19384006e-01, -5.99073693e-02,\n",
       "         -4.44620773e-02,  1.29862905e-01],\n",
       "        [ 1.08044557e-01,  2.58748960e-02,  6.79595675e-03,\n",
       "         -1.80271387e-01,  2.63859421e-01,  1.96606532e-01,\n",
       "         -1.17736615e-01, -1.66258365e-01],\n",
       "        [ 3.37262899e-02,  1.06296450e-01, -1.44706696e-01,\n",
       "         -4.23834585e-02, -1.69828281e-01,  2.70539820e-01,\n",
       "          2.16935396e-01,  3.43605466e-02],\n",
       "        [-8.13219249e-02, -6.11707978e-02, -2.21663937e-02,\n",
       "         -1.05085149e-01,  3.75054684e-03, -5.31871952e-02,\n",
       "         -6.80787954e-03,  1.00669824e-01],\n",
       "        [-1.43299177e-01,  1.32544309e-01,  3.73323485e-02,\n",
       "          2.61745542e-01,  9.71869677e-02, -2.16927201e-01,\n",
       "         -1.06089339e-02, -1.27457470e-01],\n",
       "        [-1.00519635e-01,  2.77244691e-02, -4.64115180e-02,\n",
       "         -6.39165863e-02, -1.14616364e-01,  1.38725918e-02,\n",
       "         -2.93257907e-02, -1.72935545e-01],\n",
       "        [ 5.65610453e-02, -1.16987541e-01,  1.35101244e-01,\n",
       "         -9.25347023e-03, -1.22607261e-01,  7.40492046e-02,\n",
       "          8.65159556e-02, -3.31005417e-02],\n",
       "        [-1.32541955e-01, -7.51515329e-02, -1.20045774e-01,\n",
       "          5.82626089e-02, -2.70541012e-01, -1.05606280e-02,\n",
       "         -2.27701902e-01, -4.62464094e-02],\n",
       "        [-1.65857270e-01,  1.15012527e-01, -1.28489345e-01,\n",
       "          4.57563624e-02, -1.63080215e-01,  1.38628706e-01,\n",
       "         -1.27242193e-01, -1.35625467e-01],\n",
       "        [-2.08057269e-01,  5.92555106e-03,  1.55523777e-01,\n",
       "          3.93168032e-02, -2.24422626e-02, -1.85485899e-01,\n",
       "          9.82904807e-04, -2.17778161e-02],\n",
       "        [ 9.90389362e-02, -5.63447811e-02,  1.18130989e-01,\n",
       "         -1.65325895e-01,  6.84536695e-02,  6.67112321e-02,\n",
       "         -3.23465392e-02,  3.76624316e-02],\n",
       "        [ 4.56736647e-02,  2.29503706e-01,  2.57820994e-01,\n",
       "          1.97283819e-01, -6.13062531e-02,  1.84499308e-01,\n",
       "          8.04218650e-02, -6.65797815e-02],\n",
       "        [-2.43262932e-01,  2.53160089e-01, -1.13003358e-01,\n",
       "         -1.35740370e-01,  4.42469083e-02, -1.62153035e-01,\n",
       "          4.75976393e-02, -1.17195770e-03],\n",
       "        [ 6.97649866e-02,  1.09556084e-02, -8.61164182e-02,\n",
       "         -2.14051548e-02, -8.34464207e-02, -4.16486785e-02,\n",
       "         -1.00811593e-01,  1.64559066e-01],\n",
       "        [-1.98418260e-01, -1.79203317e-01,  3.86778936e-02,\n",
       "          9.54556279e-03, -8.96612555e-02, -1.04518473e-01,\n",
       "          4.96546254e-02, -5.44625074e-02],\n",
       "        [-4.95546944e-02, -3.91783789e-02, -3.49225327e-02,\n",
       "          1.01547174e-01, -3.84656340e-02, -3.28923352e-02,\n",
       "         -6.75570741e-02, -1.12628333e-01],\n",
       "        [ 3.20958868e-02, -7.07945898e-02, -7.36870524e-03,\n",
       "          4.66898158e-02, -1.06027372e-01,  1.03260361e-01,\n",
       "         -1.93635486e-02, -1.53865278e-01],\n",
       "        [ 4.38235067e-02, -1.20082743e-01,  4.42005787e-03,\n",
       "         -1.25879198e-01,  1.19775586e-01,  8.72624069e-02,\n",
       "         -1.11817390e-01, -1.84787586e-02],\n",
       "        [ 1.15366340e-01, -1.82082117e-01,  2.06972659e-02,\n",
       "          7.18356818e-02, -6.34314306e-03,  8.88214856e-02,\n",
       "          1.10306278e-01, -7.93108642e-02],\n",
       "        [ 1.35301962e-01,  9.25416276e-02, -2.45243888e-02,\n",
       "          2.34053075e-01, -2.24123955e-01,  6.45896941e-02,\n",
       "         -3.71953309e-01, -8.96673575e-02],\n",
       "        [-3.04622818e-02, -8.05470794e-02,  5.48313111e-02,\n",
       "         -2.80231446e-01, -1.00973189e-01, -1.78594179e-02,\n",
       "          1.09696634e-01, -7.90291652e-02],\n",
       "        [ 1.28846453e-03,  9.81227458e-02, -4.05182019e-02,\n",
       "         -2.17506737e-01, -8.57595652e-02,  1.21260896e-01,\n",
       "         -1.03431987e-02, -1.00106396e-01],\n",
       "        [-7.02442899e-02, -8.36658701e-02, -3.53127085e-02,\n",
       "         -2.76100695e-01, -2.19683856e-01, -1.51743591e-01,\n",
       "         -7.98194483e-03, -6.04265463e-03],\n",
       "        [-1.04764819e-01,  2.22382069e-01,  9.38271210e-02,\n",
       "          8.11069757e-02,  1.05910540e-01,  9.88636687e-02,\n",
       "          3.93934771e-02,  6.75837100e-02],\n",
       "        [-2.65653342e-01, -2.04417035e-01,  1.80791039e-03,\n",
       "         -1.27047390e-01,  9.31679606e-02, -2.78407484e-02,\n",
       "         -3.36848870e-02,  5.36851659e-02],\n",
       "        [-1.72352955e-01, -5.91512024e-02,  6.41736910e-02,\n",
       "         -1.45224497e-01,  1.85559198e-01,  1.40815347e-01,\n",
       "         -7.04694763e-02, -2.52073377e-01],\n",
       "        [ 1.22599766e-01,  2.73110539e-01,  8.86503607e-02,\n",
       "         -2.71526389e-02, -1.95282102e-02, -2.60643959e-02,\n",
       "         -2.52424274e-03,  2.30518669e-01],\n",
       "        [ 5.57636551e-04, -6.72744215e-02, -1.72755316e-01,\n",
       "          7.93275014e-02, -7.25037465e-03, -6.56431615e-02,\n",
       "         -6.76769018e-02, -9.13361553e-03],\n",
       "        [-3.63327302e-02,  1.73086226e-01, -2.17014283e-01,\n",
       "         -1.67108387e-01, -1.63228530e-03,  1.41332913e-02,\n",
       "         -1.06397562e-01,  9.79618952e-02],\n",
       "        [-1.51584566e-01,  3.47316638e-02,  3.12506020e-01,\n",
       "         -1.77799150e-01,  1.49826348e-01,  1.07832313e-01,\n",
       "         -1.19960517e-01, -7.33012408e-02],\n",
       "        [-6.10315241e-02, -5.34770302e-02, -2.07212955e-01,\n",
       "         -9.27420855e-02, -1.41750559e-01,  3.68298665e-02,\n",
       "          6.79385513e-02, -6.95508197e-02],\n",
       "        [ 1.86395589e-02,  2.80989140e-01, -4.46601026e-02,\n",
       "         -1.58801541e-01, -1.09950893e-01,  6.04493022e-02,\n",
       "          4.60557938e-02,  3.28356661e-02],\n",
       "        [-1.47816971e-01,  2.38145143e-02, -1.20021403e-01,\n",
       "          3.02736647e-02,  1.46290421e-01,  2.03519180e-01,\n",
       "          1.72660336e-01,  1.24130115e-01]], dtype=float32)>,\n",
       " <tf.Variable 'dense_8/bias:0' shape=(8,) dtype=float32, numpy=array([0.4, 0.4, 0.4, 0.4, 0.4, 0.4, 0.4, 0.4], dtype=float32)>]"
      ]
     },
     "execution_count": 10,
     "metadata": {},
     "output_type": "execute_result"
    }
   ],
   "source": [
    "W_B_model.weights"
   ]
  },
  {
   "cell_type": "code",
   "execution_count": 11,
   "metadata": {
    "collapsed": false,
    "pycharm": {
     "name": "#%%\n"
    }
   },
   "outputs": [],
   "source": [
    "#Example of a custom initializer\n",
    "def my_init(shape, dtype=None):\n",
    "    return K.random_normal(shape, dtype=dtype)\n",
    "\n",
    "W_B_model.add(Dense(64, kernel_initializer=my_init))"
   ]
  },
  {
   "cell_type": "code",
   "execution_count": 12,
   "metadata": {
    "collapsed": false,
    "pycharm": {
     "name": "#%%\n"
    }
   },
   "outputs": [
    {
     "name": "stdout",
     "output_type": "stream",
     "text": [
      "Model: \"sequential_2\"\n",
      "_________________________________________________________________\n",
      " Layer (type)                Output Shape              Param #   \n",
      "=================================================================\n",
      " conv1d (Conv1D)             (None, 126, 16)           3088      \n",
      "                                                                 \n",
      " max_pooling1d (MaxPooling1D  (None, 31, 16)           0         \n",
      " )                                                               \n",
      "                                                                 \n",
      " flatten_2 (Flatten)         (None, 496)               0         \n",
      "                                                                 \n",
      " dense_6 (Dense)             (None, 64)                31808     \n",
      "                                                                 \n",
      " dense_7 (Dense)             (None, 64)                4160      \n",
      "                                                                 \n",
      " dense_8 (Dense)             (None, 8)                 520       \n",
      "                                                                 \n",
      " dense_9 (Dense)             (None, 64)                576       \n",
      "                                                                 \n",
      "=================================================================\n",
      "Total params: 40,152\n",
      "Trainable params: 40,152\n",
      "Non-trainable params: 0\n",
      "_________________________________________________________________\n"
     ]
    }
   ],
   "source": [
    "W_B_model.summary()"
   ]
  },
  {
   "cell_type": "code",
   "execution_count": 13,
   "metadata": {
    "collapsed": false,
    "pycharm": {
     "name": "#%%\n"
    }
   },
   "outputs": [
    {
     "data": {
      "image/png": "[encoded data removed]",
      "text/plain": [
       "<Figure size 864x1152 with 10 Axes>"
      ]
     },
     "metadata": {
      "needs_background": "light"
     },
     "output_type": "display_data"
    }
   ],
   "source": [
    "\n",
    "fig, axes = plt.subplots(5, 2, figsize=(12,16))\n",
    "fig.subplots_adjust(hspace=0.5, wspace=0.5)\n",
    "\n",
    "# Filter out the pooling and flatten layers, that don't have any weights\n",
    "weight_layers = [layer for layer in W_B_model.layers if len(layer.weights) > 0]\n",
    "\n",
    "for i, layer in enumerate(weight_layers):\n",
    "    for j in [0, 1]:\n",
    "        axes[i, j].hist(layer.weights[j].numpy().flatten(), align='left')\n",
    "        axes[i, j].set_title(layer.weights[j].name)"
   ]
  },
  {
   "cell_type": "code",
   "execution_count": 27,
   "metadata": {},
   "outputs": [],
   "source": [
    "# Load the Fashion-MNIST dataset\n",
    "fashion_mnist_data = tf.keras.datasets.fashion_mnist\n",
    "(train_images, train_labels), (test_images, test_labels) = fashion_mnist_data.load_data()"
   ]
  },
  {
   "cell_type": "code",
   "execution_count": 28,
   "metadata": {},
   "outputs": [
    {
     "name": "stdout",
     "output_type": "stream",
     "text": [
      "(60000, 28, 28)\n",
      "(60000,)\n",
      "(10000, 28, 28)\n",
      "(10000,)\n"
     ]
    }
   ],
   "source": [
    "# Print the shape of the training data\n",
    "print(train_images.shape)\n",
    "print(train_labels.shape)\n",
    "print(test_images.shape)\n",
    "print(test_labels.shape)"
   ]
  },
  {
   "cell_type": "code",
   "execution_count": 29,
   "metadata": {},
   "outputs": [],
   "source": [
    "# Define the model optimizer, loss function and metrics\n",
    "opt = tf.keras.optimizers.Adam(learning_rate=0.005)\n",
    "acc = tf.keras.metrics.SparseCategoricalAccuracy()\n",
    "mae = tf.keras.metrics.MeanAbsoluteError()\n",
    "\n",
    "\n",
    "model.compile(optimizer = opt, \n",
    "              loss = 'sparse_categorical_crossentropy', \n",
    "              metrics = [acc, mae])\n",
    "\n",
    "CNN_model.compile(optimizer = opt, \n",
    "              loss = 'sparse_categorical_crossentropy', \n",
    "              metrics = [acc, mae])           \n",
    "\n",
    "W_B_model.compile(optimizer = opt, \n",
    "              loss = 'sparse_categorical_crossentropy', \n",
    "              metrics = [acc, mae])          "
   ]
  },
  {
   "cell_type": "code",
   "execution_count": 30,
   "metadata": {},
   "outputs": [
    {
     "name": "stdout",
     "output_type": "stream",
     "text": [
      "<keras.optimizer_v2.adam.Adam object at 0x000001544CEAD2B0>\n",
      "<tf.Variable 'learning_rate:0' shape=() dtype=float32, numpy=0.005>\n",
      "sparse_categorical_crossentropy\n",
      "[]\n"
     ]
    }
   ],
   "source": [
    "# Print the resulting model attributes\n",
    "print(model.optimizer)\n",
    "print(model.optimizer.lr)\n",
    "print(model.loss)\n",
    "print(model.metrics)"
   ]
  },
  {
   "cell_type": "code",
   "execution_count": 32,
   "metadata": {},
   "outputs": [
    {
     "name": "stdout",
     "output_type": "stream",
     "text": [
      "Epoch 1/5\n",
      "235/235 [==============================] - 5s 6ms/step - loss: 2.2073 - sparse_categorical_accuracy: 0.4699 - mean_absolute_error: 4.4200 - val_loss: 0.8641 - val_sparse_categorical_accuracy: 0.6785 - val_mean_absolute_error: 4.4200\n",
      "Epoch 2/5\n",
      "235/235 [==============================] - 1s 5ms/step - loss: 0.7432 - sparse_categorical_accuracy: 0.7243 - mean_absolute_error: 4.4200 - val_loss: 0.7203 - val_sparse_categorical_accuracy: 0.7393 - val_mean_absolute_error: 4.4200\n",
      "Epoch 3/5\n",
      "235/235 [==============================] - 1s 5ms/step - loss: 0.6772 - sparse_categorical_accuracy: 0.7511 - mean_absolute_error: 4.4200 - val_loss: 0.6833 - val_sparse_categorical_accuracy: 0.7554 - val_mean_absolute_error: 4.4200\n",
      "Epoch 4/5\n",
      "235/235 [==============================] - 1s 5ms/step - loss: 0.6589 - sparse_categorical_accuracy: 0.7565 - mean_absolute_error: 4.4200 - val_loss: 0.6819 - val_sparse_categorical_accuracy: 0.7508 - val_mean_absolute_error: 4.4200\n",
      "Epoch 5/5\n",
      "235/235 [==============================] - 1s 6ms/step - loss: 0.6429 - sparse_categorical_accuracy: 0.7615 - mean_absolute_error: 4.4200 - val_loss: 0.6656 - val_sparse_categorical_accuracy: 0.7545 - val_mean_absolute_error: 4.4200\n"
     ]
    }
   ],
   "source": [
    "# Fit the model\n",
    "\n",
    "# hist = model.fit(train_images, train_labels, validation_data=(test_images, test_labels), epochs=5, batch_size=256 ,verbose=1)\n",
    "hist = CNN_model.fit(train_images, train_labels, validation_data=(test_images, test_labels), epochs=5, batch_size=256 ,verbose=1)\n",
    "# hist = W_B_model.fit(train_images, train_labels, validation_data=(test_images, test_labels), epochs=5, batch_size=256 ,verbose=1)"
   ]
  },
  {
   "cell_type": "code",
   "execution_count": 33,
   "metadata": {},
   "outputs": [
    {
     "data": {
      "text/html": [
       "<div>\n",
       "<style scoped>\n",
       "    .dataframe tbody tr th:only-of-type {\n",
       "        vertical-align: middle;\n",
       "    }\n",
       "\n",
       "    .dataframe tbody tr th {\n",
       "        vertical-align: top;\n",
       "    }\n",
       "\n",
       "    .dataframe thead th {\n",
       "        text-align: right;\n",
       "    }\n",
       "</style>\n",
       "<table border=\"1\" class=\"dataframe\">\n",
       "  <thead>\n",
       "    <tr style=\"text-align: right;\">\n",
       "      <th></th>\n",
       "      <th>loss</th>\n",
       "      <th>sparse_categorical_accuracy</th>\n",
       "      <th>mean_absolute_error</th>\n",
       "      <th>val_loss</th>\n",
       "      <th>val_sparse_categorical_accuracy</th>\n",
       "      <th>val_mean_absolute_error</th>\n",
       "    </tr>\n",
       "  </thead>\n",
       "  <tbody>\n",
       "    <tr>\n",
       "      <th>0</th>\n",
       "      <td>2.207263</td>\n",
       "      <td>0.469857</td>\n",
       "      <td>4.420000</td>\n",
       "      <td>0.864107</td>\n",
       "      <td>0.6785</td>\n",
       "      <td>4.42</td>\n",
       "    </tr>\n",
       "    <tr>\n",
       "      <th>1</th>\n",
       "      <td>0.743222</td>\n",
       "      <td>0.724317</td>\n",
       "      <td>4.420000</td>\n",
       "      <td>0.720313</td>\n",
       "      <td>0.7393</td>\n",
       "      <td>4.42</td>\n",
       "    </tr>\n",
       "    <tr>\n",
       "      <th>2</th>\n",
       "      <td>0.677227</td>\n",
       "      <td>0.751083</td>\n",
       "      <td>4.420001</td>\n",
       "      <td>0.683287</td>\n",
       "      <td>0.7554</td>\n",
       "      <td>4.42</td>\n",
       "    </tr>\n",
       "    <tr>\n",
       "      <th>3</th>\n",
       "      <td>0.658869</td>\n",
       "      <td>0.756483</td>\n",
       "      <td>4.420000</td>\n",
       "      <td>0.681913</td>\n",
       "      <td>0.7508</td>\n",
       "      <td>4.42</td>\n",
       "    </tr>\n",
       "    <tr>\n",
       "      <th>4</th>\n",
       "      <td>0.642944</td>\n",
       "      <td>0.761500</td>\n",
       "      <td>4.419999</td>\n",
       "      <td>0.665596</td>\n",
       "      <td>0.7545</td>\n",
       "      <td>4.42</td>\n",
       "    </tr>\n",
       "  </tbody>\n",
       "</table>\n",
       "</div>"
      ],
      "text/plain": [
       "       loss  sparse_categorical_accuracy  mean_absolute_error  val_loss  \\\n",
       "0  2.207263                     0.469857             4.420000  0.864107   \n",
       "1  0.743222                     0.724317             4.420000  0.720313   \n",
       "2  0.677227                     0.751083             4.420001  0.683287   \n",
       "3  0.658869                     0.756483             4.420000  0.681913   \n",
       "4  0.642944                     0.761500             4.419999  0.665596   \n",
       "\n",
       "   val_sparse_categorical_accuracy  val_mean_absolute_error  \n",
       "0                           0.6785                     4.42  \n",
       "1                           0.7393                     4.42  \n",
       "2                           0.7554                     4.42  \n",
       "3                           0.7508                     4.42  \n",
       "4                           0.7545                     4.42  "
      ]
     },
     "execution_count": 33,
     "metadata": {},
     "output_type": "execute_result"
    }
   ],
   "source": [
    "# Load the history into a pandas Dataframe\n",
    "df = pd.DataFrame(hist.history)\n",
    "df.head()"
   ]
  },
  {
   "cell_type": "code",
   "execution_count": 34,
   "metadata": {},
   "outputs": [
    {
     "data": {
      "text/plain": [
       "[Text(0.5, 0, 'Epochs'), Text(0, 0.5, 'Loss')]"
      ]
     },
     "execution_count": 34,
     "metadata": {},
     "output_type": "execute_result"
    },
    {
     "data": {
      "image/png": "[encoded data removed]",
      "text/plain": [
       "<Figure size 432x288 with 1 Axes>"
      ]
     },
     "metadata": {
      "needs_background": "light"
     },
     "output_type": "display_data"
    }
   ],
   "source": [
    "# Make a plot for the loss\n",
    "loss_plot = df.plot(y=\"loss\", title=\"Loss vs. Epochs\", legend=False)\n",
    "loss_plot.set(xlabel=\"Epochs\", ylabel=\"Loss\")"
   ]
  },
  {
   "cell_type": "code",
   "execution_count": 35,
   "metadata": {},
   "outputs": [
    {
     "data": {
      "text/plain": [
       "[Text(0.5, 0, 'Epochs'), Text(0, 0.5, 'Accuracy')]"
      ]
     },
     "execution_count": 35,
     "metadata": {},
     "output_type": "execute_result"
    },
    {
     "data": {
      "image/png": "[encoded data removed]",
      "text/plain": [
       "<Figure size 432x288 with 1 Axes>"
      ]
     },
     "metadata": {
      "needs_background": "light"
     },
     "output_type": "display_data"
    }
   ],
   "source": [
    "# Make a plot for the accuracy\n",
    "acc_plot = df.plot(y=\"sparse_categorical_accuracy\", title=\"accuracy vs. Epochs\", legend=False)\n",
    "acc_plot.set(xlabel=\"Epochs\", ylabel=\"Accuracy\")"
   ]
  },
  {
   "cell_type": "code",
   "execution_count": 36,
   "metadata": {},
   "outputs": [
    {
     "data": {
      "text/plain": [
       "[Text(0.5, 0, 'Epochs'), Text(0, 0.5, 'MAE')]"
      ]
     },
     "execution_count": 36,
     "metadata": {},
     "output_type": "execute_result"
    },
    {
     "data": {
      "image/png": "[encoded data removed]",
      "text/plain": [
       "<Figure size 432x288 with 1 Axes>"
      ]
     },
     "metadata": {
      "needs_background": "light"
     },
     "output_type": "display_data"
    }
   ],
   "source": [
    "# Make a plot for the additional metric\n",
    "mae_plot = df.plot(y=\"mean_absolute_error\", title=\"MAE vs. Epochs\", legend=False)\n",
    "mae_plot.set(xlabel=\"Epochs\", ylabel=\"MAE\")"
   ]
  },
  {
   "cell_type": "code",
   "execution_count": 37,
   "metadata": {},
   "outputs": [
    {
     "data": {
      "image/png": "[encoded data removed]",
      "text/plain": [
       "<Figure size 432x288 with 1 Axes>"
      ]
     },
     "metadata": {
      "needs_background": "light"
     },
     "output_type": "display_data"
    }
   ],
   "source": [
    "plt.plot(hist.history['sparse_categorical_accuracy'], label='accuracy')\n",
    "plt.plot(hist.history['loss'], label='loss')\n",
    "plt.plot(hist.history['val_sparse_categorical_accuracy'], label='val_accuracy')\n",
    "plt.plot(hist.history['val_loss'], label='val_loss')\n",
    "plt.legend(loc='upper left')\n",
    "plt.show()"
   ]
  },
  {
   "cell_type": "code",
   "execution_count": 38,
   "metadata": {},
   "outputs": [
    {
     "name": "stdout",
     "output_type": "stream",
     "text": [
      "313/313 [==============================] - 1s 4ms/step - loss: 0.6656 - sparse_categorical_accuracy: 0.7545 - mean_absolute_error: 4.4200\n"
     ]
    }
   ],
   "source": [
    "# Evaluate the model\n",
    "# loss, accuracy, mae = model.evaluate(test_images, test_labels)\n",
    "loss, accuracy, mae = CNN_model.evaluate(test_images, test_labels)\n",
    "# loss, accuracy, mae = W_B_model.evaluate(test_images, test_labels)\n"
   ]
  },
  {
   "cell_type": "code",
   "execution_count": 39,
   "metadata": {},
   "outputs": [],
   "source": [
    "# Define the labels\n",
    "\n",
    "labels = [\n",
    "    'T-shirt/top',\n",
    "    'Trouser',\n",
    "    'Pullover',\n",
    "    'Dress',\n",
    "    'Coat',\n",
    "    'Sandal',\n",
    "    'Shirt',\n",
    "    'Sneaker',\n",
    "    'Bag',\n",
    "    'Ankle boot'\n",
    "]"
   ]
  },
  {
   "cell_type": "code",
   "execution_count": 40,
   "metadata": {},
   "outputs": [
    {
     "data": {
      "image/png": "[encoded data removed]",
      "text/plain": [
       "<Figure size 432x288 with 1 Axes>"
      ]
     },
     "metadata": {
      "needs_background": "light"
     },
     "output_type": "display_data"
    },
    {
     "name": "stdout",
     "output_type": "stream",
     "text": [
      "Label: Trouser\n"
     ]
    }
   ],
   "source": [
    "# Choose a random test image\n",
    "random_inx = np.random.choice(test_images.shape[0])\n",
    "\n",
    "test_image = test_images[random_inx]\n",
    "plt.imshow(test_image)\n",
    "plt.show()\n",
    "print(f\"Label: {labels[test_labels[random_inx]]}\")"
   ]
  },
  {
   "cell_type": "code",
   "execution_count": 41,
   "metadata": {},
   "outputs": [
    {
     "name": "stdout",
     "output_type": "stream",
     "text": [
      "[[4.4153811e-04 6.4614981e-01 3.5284062e-05 3.4925431e-01 1.1858632e-03\n",
      "  8.7491273e-05 3.6477321e-04 1.7009871e-03 2.6374712e-04 5.1621353e-04]]\n",
      "Model prediction: Trouser\n"
     ]
    }
   ],
   "source": [
    "# Get the model predictions\n",
    "\n",
    "# prediction = model.predict(test_image[np.newaxis, ... , np.newaxis])\n",
    "# prediction = model.predict(test_image.reshape(1, 28, 28, 1))\n",
    "prediction = CNN_model.predict(test_image.reshape(1, 28, 28, 1))\n",
    "# prediction = W_B_model.predict(test_image.reshape(1, 28, 28, 1))\n",
    "print(prediction)\n",
    "print(f\"Model prediction: {labels[np.argmax(prediction)]}\")"
   ]
  }
 ],
 "metadata": {
  "kernelspec": {
   "display_name": "Python 3",
   "language": "python",
   "name": "python3"
  },
  "language_info": {
   "codemirror_mode": {
    "name": "ipython",
    "version": 3
   },
   "file_extension": ".py",
   "mimetype": "text/x-python",
   "name": "python",
   "nbconvert_exporter": "python",
   "pygments_lexer": "ipython3",
   "version": "3.8.12"
  }
 },
 "nbformat": 4,
 "nbformat_minor": 0
}