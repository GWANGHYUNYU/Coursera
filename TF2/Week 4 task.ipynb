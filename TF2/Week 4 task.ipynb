{
 "cells": [
  {
   "cell_type": "code",
   "execution_count": 9,
   "metadata": {},
   "outputs": [],
   "source": [
    "import tensorflow as tf\n",
    "from tensorflow.keras.preprocessing.image import load_img, img_to_array\n",
    "from tensorflow.keras.models import Sequential, load_model\n",
    "from tensorflow.keras.layers import Dense, Flatten, Conv2D, MaxPooling2D\n",
    "from tensorflow.keras.callbacks import ModelCheckpoint, EarlyStopping\n",
    "from tensorflow.keras import regularizers\n",
    "\n",
    "import os\n",
    "import numpy as np\n",
    "import pandas as pd\n",
    "\n",
    "from sklearn import datasets, model_selection \n",
    "import matplotlib.pyplot as plt\n",
    "%matplotlib inline\n",
    "\n",
    "import tensorflow_hub as hub"
   ]
  },
  {
   "cell_type": "code",
   "execution_count": 10,
   "metadata": {},
   "outputs": [],
   "source": [
    "def load_eurosat_data():\n",
    "    x_train = np.load('data/eurosat/x_train.npy')\n",
    "    y_train = np.load('data/eurosat/y_train.npy')\n",
    "    x_test  = np.load('data/eurosat/x_test.npy')\n",
    "    y_test  = np.load('data/eurosat/y_test.npy')\n",
    "    return (x_train, y_train), (x_test, y_test)\n",
    "\n",
    "(x_train, y_train), (x_test, y_test) = load_eurosat_data()\n",
    "x_train = x_train / 255.0\n",
    "x_test = x_test / 255.0"
   ]
  },
  {
   "cell_type": "code",
   "execution_count": 11,
   "metadata": {},
   "outputs": [],
   "source": [
    "def get_new_model(input_shape):\n",
    "\n",
    "    model = Sequential([\n",
    "        Conv2D(filters=16, input_shape=input_shape, kernel_size=(3, 3), padding=\"same\",\n",
    "               activation='relu', name='conv_1'),\n",
    "        Conv2D(filters=8, kernel_size=(3, 3), padding=\"same\", activation='relu', name='conv_2'),\n",
    "        MaxPooling2D(pool_size=(8, 8), name='pool_1'),\n",
    "        Flatten(name='flatten'),\n",
    "        Dense(units=32, activation='relu', name='dense_1'),\n",
    "        Dense(units=10, activation='softmax', name='dense_2')\n",
    "    ])\n",
    "    model.compile(optimizer='adam',\n",
    "                  loss='sparse_categorical_crossentropy',\n",
    "                  metrics=['accuracy'])\n",
    "                  \n",
    "    return model        "
   ]
  },
  {
   "cell_type": "code",
   "execution_count": 12,
   "metadata": {},
   "outputs": [],
   "source": [
    "model = get_new_model(x_train[0].shape)"
   ]
  },
  {
   "cell_type": "code",
   "execution_count": 13,
   "metadata": {},
   "outputs": [],
   "source": [
    "def get_test_accuracy(model, x_test, y_test):\n",
    "    test_loss, test_acc = model.evaluate(x=x_test, y=y_test, verbose=0)\n",
    "    print('accuracy: {acc:0.3f}'.format(acc=test_acc))"
   ]
  },
  {
   "cell_type": "code",
   "execution_count": 15,
   "metadata": {},
   "outputs": [
    {
     "name": "stdout",
     "output_type": "stream",
     "text": [
      "Model: \"sequential\"\n",
      "_________________________________________________________________\n",
      " Layer (type)                Output Shape              Param #   \n",
      "=================================================================\n",
      " conv_1 (Conv2D)             (None, 64, 64, 16)        448       \n",
      "                                                                 \n",
      " conv_2 (Conv2D)             (None, 64, 64, 8)         1160      \n",
      "                                                                 \n",
      " pool_1 (MaxPooling2D)       (None, 8, 8, 8)           0         \n",
      "                                                                 \n",
      " flatten (Flatten)           (None, 512)               0         \n",
      "                                                                 \n",
      " dense_1 (Dense)             (None, 32)                16416     \n",
      "                                                                 \n",
      " dense_2 (Dense)             (None, 10)                330       \n",
      "                                                                 \n",
      "=================================================================\n",
      "Total params: 18,354\n",
      "Trainable params: 18,354\n",
      "Non-trainable params: 0\n",
      "_________________________________________________________________\n"
     ]
    }
   ],
   "source": [
    "model.summary()"
   ]
  },
  {
   "cell_type": "code",
   "execution_count": 16,
   "metadata": {},
   "outputs": [
    {
     "name": "stdout",
     "output_type": "stream",
     "text": [
      "accuracy: 0.095\n"
     ]
    }
   ],
   "source": [
    "get_test_accuracy(model, x_test, y_test)"
   ]
  },
  {
   "cell_type": "code",
   "execution_count": 17,
   "metadata": {},
   "outputs": [],
   "source": [
    "def get_checkpoint_every_epoch():\n",
    "    checkpoint_path = 'checkpoints_every_epoch/checkpoint_{epoch:03d}'\n",
    "    checkpoint = ModelCheckpoint(filepath=checkpoint_path,\n",
    "                                 frequency='epoch',\n",
    "                                 save_weights_only=True,\n",
    "                                 verbose=1)    \n",
    "    return checkpoint   \n",
    "    \n",
    "\n",
    "def get_checkpoint_best_only():\n",
    "    checkpoint_best_path = 'checkpoints_best_only/checkpoint'\n",
    "    checkpoint_best = ModelCheckpoint(filepath=checkpoint_best_path,\n",
    "                                  save_weights_only=True,\n",
    "                                  save_freq='epoch',\n",
    "                                  monitor='val_accuracy',\n",
    "                                  save_best_only=True,\n",
    "                                  verbose=1)\n",
    "    return checkpoint_best  "
   ]
  },
  {
   "cell_type": "code",
   "execution_count": 18,
   "metadata": {},
   "outputs": [],
   "source": [
    "def get_early_stopping():\n",
    "\n",
    "    early_stopping = tf.keras.callbacks.EarlyStopping(monitor='val_accuracy', patience=3)\n",
    "    return early_stopping"
   ]
  },
  {
   "cell_type": "code",
   "execution_count": 19,
   "metadata": {},
   "outputs": [],
   "source": [
    "checkpoint_every_epoch = get_checkpoint_every_epoch()\n",
    "checkpoint_best_only = get_checkpoint_best_only()\n",
    "early_stopping = get_early_stopping()"
   ]
  },
  {
   "cell_type": "code",
   "execution_count": 20,
   "metadata": {},
   "outputs": [
    {
     "name": "stdout",
     "output_type": "stream",
     "text": [
      "Epoch 1/50\n",
      "122/125 [============================>.] - ETA: 0s - loss: 1.9971 - accuracy: 0.2234\n",
      "Epoch 1: saving model to checkpoints_every_epoch\\checkpoint_001\n",
      "\n",
      "Epoch 1: val_accuracy improved from -inf to 0.29200, saving model to checkpoints_best_only\\checkpoint\n",
      "125/125 [==============================] - 9s 63ms/step - loss: 1.9898 - accuracy: 0.2245 - val_loss: 1.7446 - val_accuracy: 0.2920\n",
      "Epoch 2/50\n",
      "121/125 [============================>.] - ETA: 0s - loss: 1.6572 - accuracy: 0.3525\n",
      "Epoch 2: saving model to checkpoints_every_epoch\\checkpoint_002\n",
      "\n",
      "Epoch 2: val_accuracy improved from 0.29200 to 0.38000, saving model to checkpoints_best_only\\checkpoint\n",
      "125/125 [==============================] - 1s 9ms/step - loss: 1.6541 - accuracy: 0.3553 - val_loss: 1.5555 - val_accuracy: 0.3800\n",
      "Epoch 3/50\n",
      "125/125 [==============================] - ETA: 0s - loss: 1.4529 - accuracy: 0.4367\n",
      "Epoch 3: saving model to checkpoints_every_epoch\\checkpoint_003\n",
      "\n",
      "Epoch 3: val_accuracy improved from 0.38000 to 0.42800, saving model to checkpoints_best_only\\checkpoint\n",
      "125/125 [==============================] - 1s 9ms/step - loss: 1.4529 - accuracy: 0.4367 - val_loss: 1.4182 - val_accuracy: 0.4280\n",
      "Epoch 4/50\n",
      "122/125 [============================>.] - ETA: 0s - loss: 1.2995 - accuracy: 0.5031\n",
      "Epoch 4: saving model to checkpoints_every_epoch\\checkpoint_004\n",
      "\n",
      "Epoch 4: val_accuracy improved from 0.42800 to 0.49600, saving model to checkpoints_best_only\\checkpoint\n",
      "125/125 [==============================] - 1s 9ms/step - loss: 1.2967 - accuracy: 0.5052 - val_loss: 1.3530 - val_accuracy: 0.4960\n",
      "Epoch 5/50\n",
      "121/125 [============================>.] - ETA: 0s - loss: 1.2053 - accuracy: 0.5589\n",
      "Epoch 5: saving model to checkpoints_every_epoch\\checkpoint_005\n",
      "\n",
      "Epoch 5: val_accuracy improved from 0.49600 to 0.50200, saving model to checkpoints_best_only\\checkpoint\n",
      "125/125 [==============================] - 1s 9ms/step - loss: 1.2075 - accuracy: 0.5585 - val_loss: 1.2534 - val_accuracy: 0.5020\n",
      "Epoch 6/50\n",
      "117/125 [===========================>..] - ETA: 0s - loss: 1.1363 - accuracy: 0.5780\n",
      "Epoch 6: saving model to checkpoints_every_epoch\\checkpoint_006\n",
      "\n",
      "Epoch 6: val_accuracy improved from 0.50200 to 0.55600, saving model to checkpoints_best_only\\checkpoint\n",
      "125/125 [==============================] - 1s 8ms/step - loss: 1.1332 - accuracy: 0.5795 - val_loss: 1.1524 - val_accuracy: 0.5560\n",
      "Epoch 7/50\n",
      "121/125 [============================>.] - ETA: 0s - loss: 1.0719 - accuracy: 0.6100\n",
      "Epoch 7: saving model to checkpoints_every_epoch\\checkpoint_007\n",
      "\n",
      "Epoch 7: val_accuracy improved from 0.55600 to 0.57500, saving model to checkpoints_best_only\\checkpoint\n",
      "125/125 [==============================] - 1s 8ms/step - loss: 1.0713 - accuracy: 0.6100 - val_loss: 1.0872 - val_accuracy: 0.5750\n",
      "Epoch 8/50\n",
      "115/125 [==========================>...] - ETA: 0s - loss: 1.0212 - accuracy: 0.6318\n",
      "Epoch 8: saving model to checkpoints_every_epoch\\checkpoint_008\n",
      "\n",
      "Epoch 8: val_accuracy improved from 0.57500 to 0.60800, saving model to checkpoints_best_only\\checkpoint\n",
      "125/125 [==============================] - 1s 7ms/step - loss: 1.0266 - accuracy: 0.6327 - val_loss: 1.0789 - val_accuracy: 0.6080\n",
      "Epoch 9/50\n",
      "125/125 [==============================] - ETA: 0s - loss: 0.9849 - accuracy: 0.6510\n",
      "Epoch 9: saving model to checkpoints_every_epoch\\checkpoint_009\n",
      "\n",
      "Epoch 9: val_accuracy improved from 0.60800 to 0.62400, saving model to checkpoints_best_only\\checkpoint\n",
      "125/125 [==============================] - 1s 7ms/step - loss: 0.9849 - accuracy: 0.6510 - val_loss: 1.0152 - val_accuracy: 0.6240\n",
      "Epoch 10/50\n",
      "117/125 [===========================>..] - ETA: 0s - loss: 0.9362 - accuracy: 0.6637\n",
      "Epoch 10: saving model to checkpoints_every_epoch\\checkpoint_010\n",
      "\n",
      "Epoch 10: val_accuracy improved from 0.62400 to 0.63100, saving model to checkpoints_best_only\\checkpoint\n",
      "125/125 [==============================] - 1s 7ms/step - loss: 0.9414 - accuracy: 0.6622 - val_loss: 1.0106 - val_accuracy: 0.6310\n",
      "Epoch 11/50\n",
      "116/125 [==========================>...] - ETA: 0s - loss: 0.9147 - accuracy: 0.6724\n",
      "Epoch 11: saving model to checkpoints_every_epoch\\checkpoint_011\n",
      "\n",
      "Epoch 11: val_accuracy did not improve from 0.63100\n",
      "125/125 [==============================] - 1s 7ms/step - loss: 0.9153 - accuracy: 0.6708 - val_loss: 1.0700 - val_accuracy: 0.6260\n",
      "Epoch 12/50\n",
      "125/125 [==============================] - ETA: 0s - loss: 0.8695 - accuracy: 0.6952\n",
      "Epoch 12: saving model to checkpoints_every_epoch\\checkpoint_012\n",
      "\n",
      "Epoch 12: val_accuracy improved from 0.63100 to 0.66700, saving model to checkpoints_best_only\\checkpoint\n",
      "125/125 [==============================] - 1s 8ms/step - loss: 0.8695 - accuracy: 0.6952 - val_loss: 0.9380 - val_accuracy: 0.6670\n",
      "Epoch 13/50\n",
      "121/125 [============================>.] - ETA: 0s - loss: 0.8597 - accuracy: 0.6971\n",
      "Epoch 13: saving model to checkpoints_every_epoch\\checkpoint_013\n",
      "\n",
      "Epoch 13: val_accuracy did not improve from 0.66700\n",
      "125/125 [==============================] - 1s 8ms/step - loss: 0.8585 - accuracy: 0.6975 - val_loss: 0.9474 - val_accuracy: 0.6590\n",
      "Epoch 14/50\n",
      "117/125 [===========================>..] - ETA: 0s - loss: 0.8116 - accuracy: 0.7236\n",
      "Epoch 14: saving model to checkpoints_every_epoch\\checkpoint_014\n",
      "\n",
      "Epoch 14: val_accuracy did not improve from 0.66700\n",
      "125/125 [==============================] - 1s 7ms/step - loss: 0.8190 - accuracy: 0.7205 - val_loss: 1.0615 - val_accuracy: 0.6280\n",
      "Epoch 15/50\n",
      "118/125 [===========================>..] - ETA: 0s - loss: 0.7933 - accuracy: 0.7256\n",
      "Epoch 15: saving model to checkpoints_every_epoch\\checkpoint_015\n",
      "\n",
      "Epoch 15: val_accuracy improved from 0.66700 to 0.70100, saving model to checkpoints_best_only\\checkpoint\n",
      "125/125 [==============================] - 1s 7ms/step - loss: 0.7984 - accuracy: 0.7218 - val_loss: 0.8412 - val_accuracy: 0.7010\n",
      "Epoch 16/50\n",
      "118/125 [===========================>..] - ETA: 0s - loss: 0.7943 - accuracy: 0.7227\n",
      "Epoch 16: saving model to checkpoints_every_epoch\\checkpoint_016\n",
      "\n",
      "Epoch 16: val_accuracy did not improve from 0.70100\n",
      "125/125 [==============================] - 1s 6ms/step - loss: 0.7922 - accuracy: 0.7240 - val_loss: 0.8412 - val_accuracy: 0.6960\n",
      "Epoch 17/50\n",
      "117/125 [===========================>..] - ETA: 0s - loss: 0.7616 - accuracy: 0.7289\n",
      "Epoch 17: saving model to checkpoints_every_epoch\\checkpoint_017\n",
      "\n",
      "Epoch 17: val_accuracy did not improve from 0.70100\n",
      "125/125 [==============================] - 1s 7ms/step - loss: 0.7623 - accuracy: 0.7308 - val_loss: 0.8448 - val_accuracy: 0.6690\n",
      "Epoch 18/50\n",
      "123/125 [============================>.] - ETA: 0s - loss: 0.7389 - accuracy: 0.7355\n",
      "Epoch 18: saving model to checkpoints_every_epoch\\checkpoint_018\n",
      "\n",
      "Epoch 18: val_accuracy did not improve from 0.70100\n",
      "125/125 [==============================] - 1s 7ms/step - loss: 0.7379 - accuracy: 0.7355 - val_loss: 0.8882 - val_accuracy: 0.6790\n"
     ]
    },
    {
     "data": {
      "text/plain": [
       "<keras.callbacks.History at 0x19c3eccdd30>"
      ]
     },
     "execution_count": 20,
     "metadata": {},
     "output_type": "execute_result"
    }
   ],
   "source": [
    "callbacks = [checkpoint_every_epoch, checkpoint_best_only, early_stopping]\n",
    "model.fit(x_train, y_train, epochs=50, validation_data=(x_test, y_test), callbacks=callbacks)"
   ]
  },
  {
   "cell_type": "code",
   "execution_count": 24,
   "metadata": {},
   "outputs": [],
   "source": [
    "def get_model_last_epoch(model):\n",
    "\n",
    "    checkpoint_path = 'checkpoints_every_epoch/checkpoint_018'\n",
    "    model = model\n",
    "    model.load_weights(checkpoint_path)\n",
    "    \n",
    "    return model \n",
    "    \n",
    "    \n",
    "def get_model_best_epoch(model):\n",
    "\n",
    "    checkpoint_best_path = 'checkpoints_best_only/checkpoint'\n",
    "    model = model\n",
    "    model.load_weights(checkpoint_best_path)\n",
    "    \n",
    "    return model    "
   ]
  },
  {
   "cell_type": "code",
   "execution_count": 25,
   "metadata": {},
   "outputs": [
    {
     "name": "stdout",
     "output_type": "stream",
     "text": [
      "Model with last epoch weights:\n",
      "accuracy: 0.679\n",
      "\n",
      "Model with best epoch weights:\n",
      "accuracy: 0.701\n"
     ]
    }
   ],
   "source": [
    "model1 = get_new_model(x_train[0].shape)\n",
    "\n",
    "model_last_epoch = get_model_last_epoch(model1)\n",
    "model_best_epoch = get_model_best_epoch(get_new_model(x_train[0].shape))\n",
    "\n",
    "print('Model with last epoch weights:')\n",
    "get_test_accuracy(model_last_epoch, x_test, y_test)\n",
    "print('')\n",
    "print('Model with best epoch weights:')\n",
    "get_test_accuracy(model_best_epoch, x_test, y_test)"
   ]
  },
  {
   "cell_type": "code",
   "execution_count": 29,
   "metadata": {},
   "outputs": [],
   "source": [
    "model_best_epoch.save('models/Week_4_best_model.h5')"
   ]
  },
  {
   "cell_type": "code",
   "execution_count": 30,
   "metadata": {},
   "outputs": [],
   "source": [
    "def get_model_eurosatnet():\n",
    "\n",
    "    model = load_model('models/Week_4_best_model.h5')\n",
    "    \n",
    "    return model  "
   ]
  },
  {
   "cell_type": "code",
   "execution_count": 31,
   "metadata": {},
   "outputs": [
    {
     "name": "stdout",
     "output_type": "stream",
     "text": [
      "WARNING:tensorflow:Error in loading the saved optimizer state. As a result, your model is starting with a freshly initialized optimizer.\n",
      "Model: \"sequential_3\"\n",
      "_________________________________________________________________\n",
      " Layer (type)                Output Shape              Param #   \n",
      "=================================================================\n",
      " conv_1 (Conv2D)             (None, 64, 64, 16)        448       \n",
      "                                                                 \n",
      " conv_2 (Conv2D)             (None, 64, 64, 8)         1160      \n",
      "                                                                 \n",
      " pool_1 (MaxPooling2D)       (None, 8, 8, 8)           0         \n",
      "                                                                 \n",
      " flatten (Flatten)           (None, 512)               0         \n",
      "                                                                 \n",
      " dense_1 (Dense)             (None, 32)                16416     \n",
      "                                                                 \n",
      " dense_2 (Dense)             (None, 10)                330       \n",
      "                                                                 \n",
      "=================================================================\n",
      "Total params: 18,354\n",
      "Trainable params: 18,354\n",
      "Non-trainable params: 0\n",
      "_________________________________________________________________\n",
      "accuracy: 0.701\n"
     ]
    }
   ],
   "source": [
    "model_eurosatnet = get_model_eurosatnet()\n",
    "model_eurosatnet.summary()\n",
    "get_test_accuracy(model_eurosatnet, x_test, y_test)"
   ]
  }
 ],
 "metadata": {
  "interpreter": {
   "hash": "83adfe2828542651110b1338e3d9d35525e23271b73a8c65931c5d4afd45dffe"
  },
  "kernelspec": {
   "display_name": "Python 3.8.12 ('tf_gpu')",
   "language": "python",
   "name": "python3"
  },
  "language_info": {
   "codemirror_mode": {
    "name": "ipython",
    "version": 3
   },
   "file_extension": ".py",
   "mimetype": "text/x-python",
   "name": "python",
   "nbconvert_exporter": "python",
   "pygments_lexer": "ipython3",
   "version": "3.8.12"
  },
  "orig_nbformat": 4
 },
 "nbformat": 4,
 "nbformat_minor": 2
}
